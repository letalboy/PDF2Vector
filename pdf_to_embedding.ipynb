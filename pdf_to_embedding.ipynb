{
 "cells": [
  {
   "cell_type": "code",
   "execution_count": 74,
   "id": "c6c38c96",
   "metadata": {},
   "outputs": [],
   "source": [
    "import os\n",
    "import PyPDF2\n",
    "import pandas as pd"
   ]
  },
  {
   "cell_type": "code",
   "execution_count": 75,
   "id": "afc242e7",
   "metadata": {},
   "outputs": [],
   "source": [
    "PDFS_DIR = \"./pdfs/\"\n",
    "\n",
    "pdfs_processed = []\n",
    "for root, dirs, files in os.walk(PDFS_DIR, topdown=False):\n",
    "    for name in files:\n",
    "        pdfs_processed.append({'path':os.path.join(root, name), 'name':name.split(\".\")[0].split(\"_\")[0], 'id':name.split(\".\")[0].split(\"_\")[1]})"
   ]
  },
  {
   "cell_type": "code",
   "execution_count": 76,
   "id": "15b34183",
   "metadata": {},
   "outputs": [],
   "source": [
    "texts = []\n",
    "names = []\n",
    "ids   = []\n",
    "\n",
    "data = []\n",
    "\n",
    "for pdf in pdfs_processed:\n",
    "\n",
    "    with open(pdf['path'],'rb') as pdf_file:\n",
    " \n",
    "        pdfreader = PyPDF2.PdfReader(pdf_file)\n",
    "\n",
    "        x = len(pdfreader.pages)\n",
    "\n",
    "        pageobj=pdfreader.pages[0] # -> x + 1 because python start in 0, so 0 + 1 => page 1 (start)\n",
    "\n",
    "        point = [pdf['id'], pdf['name'], pageobj.extract_text().replace(\"[\", \"(\").replace(\"]\", \")\")]\n",
    "        \n",
    "        data.append(point)\n",
    "        \n",
    "    pdf_file.close()\n",
    "\n"
   ]
  },
  {
   "cell_type": "code",
   "execution_count": 77,
   "id": "796bc7ba",
   "metadata": {},
   "outputs": [],
   "source": [
    "pdf_df = pd.DataFrame(data, columns=['text_id', 'title', 'text'])"
   ]
  },
  {
   "cell_type": "code",
   "execution_count": 78,
   "id": "7e4f2cd6",
   "metadata": {},
   "outputs": [
    {
     "data": {
      "text/html": [
       "<div>\n",
       "<style scoped>\n",
       "    .dataframe tbody tr th:only-of-type {\n",
       "        vertical-align: middle;\n",
       "    }\n",
       "\n",
       "    .dataframe tbody tr th {\n",
       "        vertical-align: top;\n",
       "    }\n",
       "\n",
       "    .dataframe thead th {\n",
       "        text-align: right;\n",
       "    }\n",
       "</style>\n",
       "<table border=\"1\" class=\"dataframe\">\n",
       "  <thead>\n",
       "    <tr style=\"text-align: right;\">\n",
       "      <th></th>\n",
       "      <th>text_id</th>\n",
       "      <th>title</th>\n",
       "      <th>text</th>\n",
       "    </tr>\n",
       "  </thead>\n",
       "  <tbody>\n",
       "    <tr>\n",
       "      <th>0</th>\n",
       "      <td>1802</td>\n",
       "      <td>Addressing-Function-Approximation-Error-In-Act...</td>\n",
       "      <td>Addressing Function Approximation Error in Act...</td>\n",
       "    </tr>\n",
       "    <tr>\n",
       "      <th>1</th>\n",
       "      <td>1706</td>\n",
       "      <td>Attention-is-All-you-need</td>\n",
       "      <td>Attention Is All You Need\\nAshish Vaswani\u0003\\nGo...</td>\n",
       "    </tr>\n",
       "    <tr>\n",
       "      <th>2</th>\n",
       "      <td>20130129</td>\n",
       "      <td>blake2</td>\n",
       "      <td>BLAKE2: simpler, smaller, fast as MD5\\n2013.01...</td>\n",
       "    </tr>\n",
       "    <tr>\n",
       "      <th>3</th>\n",
       "      <td>1509</td>\n",
       "      <td>Deep-Reinforcement-Learning-with-Double-Q-lear...</td>\n",
       "      <td>Deep Reinforcement Learning with Double Q-lear...</td>\n",
       "    </tr>\n",
       "    <tr>\n",
       "      <th>4</th>\n",
       "      <td>1710</td>\n",
       "      <td>Distributional-Reinforcement-Learning-With-Qua...</td>\n",
       "      <td>Distributional Reinforcement Learning with Qua...</td>\n",
       "    </tr>\n",
       "    <tr>\n",
       "      <th>5</th>\n",
       "      <td>1511</td>\n",
       "      <td>Dueling-Network-Architectures-For-Deep-reingor...</td>\n",
       "      <td>Dueling Network Architectures for Deep Reinfor...</td>\n",
       "    </tr>\n",
       "    <tr>\n",
       "      <th>6</th>\n",
       "      <td>2010</td>\n",
       "      <td>GeneticAlgo</td>\n",
       "      <td>Logic Guided Genetic Algorithms\\nDhananjay Ash...</td>\n",
       "    </tr>\n",
       "    <tr>\n",
       "      <th>7</th>\n",
       "      <td>1710</td>\n",
       "      <td>Rainbow-Combining-Improvements-In-Deep-Reinfor...</td>\n",
       "      <td>Rainbow: Combining Improvements in Deep Reinfo...</td>\n",
       "    </tr>\n",
       "    <tr>\n",
       "      <th>8</th>\n",
       "      <td></td>\n",
       "      <td>whisper</td>\n",
       "      <td>Robust Speech Recognition via Large-Scale Weak...</td>\n",
       "    </tr>\n",
       "  </tbody>\n",
       "</table>\n",
       "</div>"
      ],
      "text/plain": [
       "    text_id                                              title  \\\n",
       "0      1802  Addressing-Function-Approximation-Error-In-Act...   \n",
       "1      1706                          Attention-is-All-you-need   \n",
       "2  20130129                                             blake2   \n",
       "3      1509  Deep-Reinforcement-Learning-with-Double-Q-lear...   \n",
       "4      1710  Distributional-Reinforcement-Learning-With-Qua...   \n",
       "5      1511  Dueling-Network-Architectures-For-Deep-reingor...   \n",
       "6      2010                                        GeneticAlgo   \n",
       "7      1710  Rainbow-Combining-Improvements-In-Deep-Reinfor...   \n",
       "8                                                      whisper   \n",
       "\n",
       "                                                text  \n",
       "0  Addressing Function Approximation Error in Act...  \n",
       "1  Attention Is All You Need\\nAshish Vaswani\u0003\\nGo...  \n",
       "2  BLAKE2: simpler, smaller, fast as MD5\\n2013.01...  \n",
       "3  Deep Reinforcement Learning with Double Q-lear...  \n",
       "4  Distributional Reinforcement Learning with Qua...  \n",
       "5  Dueling Network Architectures for Deep Reinfor...  \n",
       "6  Logic Guided Genetic Algorithms\\nDhananjay Ash...  \n",
       "7  Rainbow: Combining Improvements in Deep Reinfo...  \n",
       "8  Robust Speech Recognition via Large-Scale Weak...  "
      ]
     },
     "execution_count": 78,
     "metadata": {},
     "output_type": "execute_result"
    }
   ],
   "source": [
    "pdf_df"
   ]
  },
  {
   "cell_type": "code",
   "execution_count": 79,
   "id": "7466070e",
   "metadata": {},
   "outputs": [],
   "source": [
    "from sentence_transformers import SentenceTransformer\n",
    "\n",
    "def embed_text(text): \n",
    "    \n",
    "    # model = SentenceTransformer('all-mpnet-base-v2')\n",
    "    model = SentenceTransformer('multi-qa-mpnet-base-cos-v1')\n",
    "\n",
    "    response = model.encode(text, convert_to_tensor=True)\n",
    "\n",
    "    response = response.cpu().detach().numpy()\n",
    "\n",
    "    return response"
   ]
  },
  {
   "cell_type": "code",
   "execution_count": 80,
   "id": "5e5ee4c8",
   "metadata": {},
   "outputs": [],
   "source": [
    "pdf_df['text_vector'] = pdf_df['text'].apply(embed_text)"
   ]
  },
  {
   "cell_type": "code",
   "execution_count": 81,
   "id": "e288aafc",
   "metadata": {},
   "outputs": [],
   "source": [
    "import seaborn as sns\n",
    "from sklearn.decomposition import PCA"
   ]
  },
  {
   "cell_type": "code",
   "execution_count": 82,
   "id": "b01541f5",
   "metadata": {},
   "outputs": [],
   "source": [
    "# retrieve the embedding vectors from the search results\n",
    "vectors = pdf_df.loc[:, \"text_vector\"].to_list()\n",
    "\n",
    "# apply PCA to reduce the dimensionality of the vectors to 3 dimensions\n",
    "pca = PCA(n_components=3)\n",
    "reduced_vectors = pca.fit_transform(vectors)\n",
    "\n",
    "# create a dataframe with the reduced vectors\n",
    "new_pca_df = pd.DataFrame(reduced_vectors, columns=['PC1', 'PC2', 'PC3'])\n",
    "\n",
    "new_pca_df['text_lenght'] = pdf_df['text'].apply(len)\n",
    "new_pca_df['title'] = pdf_df['title']"
   ]
  },
  {
   "cell_type": "code",
   "execution_count": 83,
   "id": "c9711fa2",
   "metadata": {},
   "outputs": [
    {
     "data": {
      "image/png": "[encoded data removed]",
      "text/plain": [
       "<Figure size 640x480 with 1 Axes>"
      ]
     },
     "metadata": {},
     "output_type": "display_data"
    }
   ],
   "source": [
    "# for creating a responsive plot\n",
    "import ipympl\n",
    "%matplotlib widget\n",
    "%matplotlib inline\n",
    "\n",
    "# use seaborn's scatterplot function to visualize the clusters\n",
    "sns.scatterplot(data=new_pca_df, x='PC1', y='PC2', hue='PC3', palette='viridis')\n",
    "\n",
    "import matplotlib.pyplot as plt\n",
    "plt.show()"
   ]
  },
  {
   "cell_type": "code",
   "execution_count": 85,
   "id": "42104d56",
   "metadata": {},
   "outputs": [
    {
     "data": {
      "application/vnd.plotly.v1+json": {
       "config": {
        "plotlyServerURL": "https://plot.ly"
       },
       "data": [
        {
         "hovertemplate": "title=Addressing-Function-Approximation-Error-In-Actor-Critic-Methods<br>PC1=%{x}<br>PC2=%{y}<br>PC3=%{z}<br>text_lenght=%{marker.size}<extra></extra>",
         "legendgroup": "Addressing-Function-Approximation-Error-In-Actor-Critic-Methods",
         "marker": {
          "color": "#636efa",
          "size": [
           4708
          ],
          "sizemode": "area",
          "sizeref": 13.26,
          "symbol": "circle"
         },
         "mode": "markers",
         "name": "Addressing-Function-Approximation-Error-In-Actor-Critic-Methods",
         "scene": "scene",
         "showlegend": true,
         "type": "scatter3d",
         "x": [
          -0.36042759730830637
         ],
         "y": [
          -0.1617600716862448
         ],
         "z": [
          0.33330531858590656
         ]
        },
        {
         "hovertemplate": "title=Attention-is-All-you-need<br>PC1=%{x}<br>PC2=%{y}<br>PC3=%{z}<br>text_lenght=%{marker.size}<extra></extra>",
         "legendgroup": "Attention-is-All-you-need",
         "marker": {
          "color": "#EF553B",
          "size": [
           2885
          ],
          "sizemode": "area",
          "sizeref": 13.26,
          "symbol": "circle"
         },
         "mode": "markers",
         "name": "Attention-is-All-you-need",
         "scene": "scene",
         "showlegend": true,
         "type": "scatter3d",
         "x": [
          0.24169940758834352
         ],
         "y": [
          -0.48286447166704555
         ],
         "z": [
          -0.3241617871155143
         ]
        },
        {
         "hovertemplate": "title=blake2<br>PC1=%{x}<br>PC2=%{y}<br>PC3=%{z}<br>text_lenght=%{marker.size}<extra></extra>",
         "legendgroup": "blake2",
         "marker": {
          "color": "#00cc96",
          "size": [
           2730
          ],
          "sizemode": "area",
          "sizeref": 13.26,
          "symbol": "circle"
         },
         "mode": "markers",
         "name": "blake2",
         "scene": "scene",
         "showlegend": true,
         "type": "scatter3d",
         "x": [
          0.5514356044082117
         ],
         "y": [
          0.6596425895959336
         ],
         "z": [
          -0.021426501146825754
         ]
        },
        {
         "hovertemplate": "title=Deep-Reinforcement-Learning-with-Double-Q-learning<br>PC1=%{x}<br>PC2=%{y}<br>PC3=%{z}<br>text_lenght=%{marker.size}<extra></extra>",
         "legendgroup": "Deep-Reinforcement-Learning-with-Double-Q-learning",
         "marker": {
          "color": "#ab63fa",
          "size": [
           4969
          ],
          "sizemode": "area",
          "sizeref": 13.26,
          "symbol": "circle"
         },
         "mode": "markers",
         "name": "Deep-Reinforcement-Learning-with-Double-Q-learning",
         "scene": "scene",
         "showlegend": true,
         "type": "scatter3d",
         "x": [
          -0.41549071066034826
         ],
         "y": [
          0.049238723448604846
         ],
         "z": [
          -0.10892319569344416
         ]
        },
        {
         "hovertemplate": "title=Distributional-Reinforcement-Learning-With-Quantile-Regression<br>PC1=%{x}<br>PC2=%{y}<br>PC3=%{z}<br>text_lenght=%{marker.size}<extra></extra>",
         "legendgroup": "Distributional-Reinforcement-Learning-With-Quantile-Regression",
         "marker": {
          "color": "#FFA15A",
          "size": [
           4974
          ],
          "sizemode": "area",
          "sizeref": 13.26,
          "symbol": "circle"
         },
         "mode": "markers",
         "name": "Distributional-Reinforcement-Learning-With-Quantile-Regression",
         "scene": "scene",
         "showlegend": true,
         "type": "scatter3d",
         "x": [
          -0.43733123316864847
         ],
         "y": [
          0.15265269448699664
         ],
         "z": [
          0.19368166422869373
         ]
        },
        {
         "hovertemplate": "title=Dueling-Network-Architectures-For-Deep-reingorcement-learning<br>PC1=%{x}<br>PC2=%{y}<br>PC3=%{z}<br>text_lenght=%{marker.size}<extra></extra>",
         "legendgroup": "Dueling-Network-Architectures-For-Deep-reingorcement-learning",
         "marker": {
          "color": "#19d3f3",
          "size": [
           3361
          ],
          "sizemode": "area",
          "sizeref": 13.26,
          "symbol": "circle"
         },
         "mode": "markers",
         "name": "Dueling-Network-Architectures-For-Deep-reingorcement-learning",
         "scene": "scene",
         "showlegend": true,
         "type": "scatter3d",
         "x": [
          -0.08506076989499092
         ],
         "y": [
          0.09440727879268641
         ],
         "z": [
          -0.3279780818992055
         ]
        },
        {
         "hovertemplate": "title=GeneticAlgo<br>PC1=%{x}<br>PC2=%{y}<br>PC3=%{z}<br>text_lenght=%{marker.size}<extra></extra>",
         "legendgroup": "GeneticAlgo",
         "marker": {
          "color": "#FF6692",
          "size": [
           5304
          ],
          "sizemode": "area",
          "sizeref": 13.26,
          "symbol": "circle"
         },
         "mode": "markers",
         "name": "GeneticAlgo",
         "scene": "scene",
         "showlegend": true,
         "type": "scatter3d",
         "x": [
          0.28127286611695806
         ],
         "y": [
          -0.014669193324817932
         ],
         "z": [
          0.588086905314569
         ]
        },
        {
         "hovertemplate": "title=Rainbow-Combining-Improvements-In-Deep-Reinforcement-Learning<br>PC1=%{x}<br>PC2=%{y}<br>PC3=%{z}<br>text_lenght=%{marker.size}<extra></extra>",
         "legendgroup": "Rainbow-Combining-Improvements-In-Deep-Reinforcement-Learning",
         "marker": {
          "color": "#B6E880",
          "size": [
           3979
          ],
          "sizemode": "area",
          "sizeref": 13.26,
          "symbol": "circle"
         },
         "mode": "markers",
         "name": "Rainbow-Combining-Improvements-In-Deep-Reinforcement-Learning",
         "scene": "scene",
         "showlegend": true,
         "type": "scatter3d",
         "x": [
          -0.14513187295953306
         ],
         "y": [
          0.187677843319096
         ],
         "z": [
          -0.3484632441651343
         ]
        },
        {
         "hovertemplate": "title=whisper<br>PC1=%{x}<br>PC2=%{y}<br>PC3=%{z}<br>text_lenght=%{marker.size}<extra></extra>",
         "legendgroup": "whisper",
         "marker": {
          "color": "#FF97FF",
          "size": [
           4615
          ],
          "sizemode": "area",
          "sizeref": 13.26,
          "symbol": "circle"
         },
         "mode": "markers",
         "name": "whisper",
         "scene": "scene",
         "showlegend": true,
         "type": "scatter3d",
         "x": [
          0.3690343058783136
         ],
         "y": [
          -0.484325392965209
         ],
         "z": [
          0.01587892189095465
         ]
        }
       ],
       "layout": {
        "legend": {
         "itemsizing": "constant",
         "title": {
          "text": "title"
         },
         "tracegroupgap": 0
        },
        "margin": {
         "b": 0,
         "l": 0,
         "r": 0,
         "t": 0
        },
        "scene": {
         "domain": {
          "x": [
           0,
           1
          ],
          "y": [
           0,
           1
          ]
         },
         "xaxis": {
          "title": {
           "text": "PC1"
          }
         },
         "yaxis": {
          "title": {
           "text": "PC2"
          }
         },
         "zaxis": {
          "title": {
           "text": "PC3"
          }
         }
        },
        "template": {
         "data": {
          "bar": [
           {
            "error_x": {
             "color": "#2a3f5f"
            },
            "error_y": {
             "color": "#2a3f5f"
            },
            "marker": {
             "line": {
              "color": "#E5ECF6",
              "width": 0.5
             },
             "pattern": {
              "fillmode": "overlay",
              "size": 10,
              "solidity": 0.2
             }
            },
            "type": "bar"
           }
          ],
          "barpolar": [
           {
            "marker": {
             "line": {
              "color": "#E5ECF6",
              "width": 0.5
             },
             "pattern": {
              "fillmode": "overlay",
              "size": 10,
              "solidity": 0.2
             }
            },
            "type": "barpolar"
           }
          ],
          "carpet": [
           {
            "aaxis": {
             "endlinecolor": "#2a3f5f",
             "gridcolor": "white",
             "linecolor": "white",
             "minorgridcolor": "white",
             "startlinecolor": "#2a3f5f"
            },
            "baxis": {
             "endlinecolor": "#2a3f5f",
             "gridcolor": "white",
             "linecolor": "white",
             "minorgridcolor": "white",
             "startlinecolor": "#2a3f5f"
            },
            "type": "carpet"
           }
          ],
          "choropleth": [
           {
            "colorbar": {
             "outlinewidth": 0,
             "ticks": ""
            },
            "type": "choropleth"
           }
          ],
          "contour": [
           {
            "colorbar": {
             "outlinewidth": 0,
             "ticks": ""
            },
            "colorscale": [
             [
              0,
              "#0d0887"
             ],
             [
              0.1111111111111111,
              "#46039f"
             ],
             [
              0.2222222222222222,
              "#7201a8"
             ],
             [
              0.3333333333333333,
              "#9c179e"
             ],
             [
              0.4444444444444444,
              "#bd3786"
             ],
             [
              0.5555555555555556,
              "#d8576b"
             ],
             [
              0.6666666666666666,
              "#ed7953"
             ],
             [
              0.7777777777777778,
              "#fb9f3a"
             ],
             [
              0.8888888888888888,
              "#fdca26"
             ],
             [
              1,
              "#f0f921"
             ]
            ],
            "type": "contour"
           }
          ],
          "contourcarpet": [
           {
            "colorbar": {
             "outlinewidth": 0,
             "ticks": ""
            },
            "type": "contourcarpet"
           }
          ],
          "heatmap": [
           {
            "colorbar": {
             "outlinewidth": 0,
             "ticks": ""
            },
            "colorscale": [
             [
              0,
              "#0d0887"
             ],
             [
              0.1111111111111111,
              "#46039f"
             ],
             [
              0.2222222222222222,
              "#7201a8"
             ],
             [
              0.3333333333333333,
              "#9c179e"
             ],
             [
              0.4444444444444444,
              "#bd3786"
             ],
             [
              0.5555555555555556,
              "#d8576b"
             ],
             [
              0.6666666666666666,
              "#ed7953"
             ],
             [
              0.7777777777777778,
              "#fb9f3a"
             ],
             [
              0.8888888888888888,
              "#fdca26"
             ],
             [
              1,
              "#f0f921"
             ]
            ],
            "type": "heatmap"
           }
          ],
          "heatmapgl": [
           {
            "colorbar": {
             "outlinewidth": 0,
             "ticks": ""
            },
            "colorscale": [
             [
              0,
              "#0d0887"
             ],
             [
              0.1111111111111111,
              "#46039f"
             ],
             [
              0.2222222222222222,
              "#7201a8"
             ],
             [
              0.3333333333333333,
              "#9c179e"
             ],
             [
              0.4444444444444444,
              "#bd3786"
             ],
             [
              0.5555555555555556,
              "#d8576b"
             ],
             [
              0.6666666666666666,
              "#ed7953"
             ],
             [
              0.7777777777777778,
              "#fb9f3a"
             ],
             [
              0.8888888888888888,
              "#fdca26"
             ],
             [
              1,
              "#f0f921"
             ]
            ],
            "type": "heatmapgl"
           }
          ],
          "histogram": [
           {
            "marker": {
             "pattern": {
              "fillmode": "overlay",
              "size": 10,
              "solidity": 0.2
             }
            },
            "type": "histogram"
           }
          ],
          "histogram2d": [
           {
            "colorbar": {
             "outlinewidth": 0,
             "ticks": ""
            },
            "colorscale": [
             [
              0,
              "#0d0887"
             ],
             [
              0.1111111111111111,
              "#46039f"
             ],
             [
              0.2222222222222222,
              "#7201a8"
             ],
             [
              0.3333333333333333,
              "#9c179e"
             ],
             [
              0.4444444444444444,
              "#bd3786"
             ],
             [
              0.5555555555555556,
              "#d8576b"
             ],
             [
              0.6666666666666666,
              "#ed7953"
             ],
             [
              0.7777777777777778,
              "#fb9f3a"
             ],
             [
              0.8888888888888888,
              "#fdca26"
             ],
             [
              1,
              "#f0f921"
             ]
            ],
            "type": "histogram2d"
           }
          ],
          "histogram2dcontour": [
           {
            "colorbar": {
             "outlinewidth": 0,
             "ticks": ""
            },
            "colorscale": [
             [
              0,
              "#0d0887"
             ],
             [
              0.1111111111111111,
              "#46039f"
             ],
             [
              0.2222222222222222,
              "#7201a8"
             ],
             [
              0.3333333333333333,
              "#9c179e"
             ],
             [
              0.4444444444444444,
              "#bd3786"
             ],
             [
              0.5555555555555556,
              "#d8576b"
             ],
             [
              0.6666666666666666,
              "#ed7953"
             ],
             [
              0.7777777777777778,
              "#fb9f3a"
             ],
             [
              0.8888888888888888,
              "#fdca26"
             ],
             [
              1,
              "#f0f921"
             ]
            ],
            "type": "histogram2dcontour"
           }
          ],
          "mesh3d": [
           {
            "colorbar": {
             "outlinewidth": 0,
             "ticks": ""
            },
            "type": "mesh3d"
           }
          ],
          "parcoords": [
           {
            "line": {
             "colorbar": {
              "outlinewidth": 0,
              "ticks": ""
             }
            },
            "type": "parcoords"
           }
          ],
          "pie": [
           {
            "automargin": true,
            "type": "pie"
           }
          ],
          "scatter": [
           {
            "fillpattern": {
             "fillmode": "overlay",
             "size": 10,
             "solidity": 0.2
            },
            "type": "scatter"
           }
          ],
          "scatter3d": [
           {
            "line": {
             "colorbar": {
              "outlinewidth": 0,
              "ticks": ""
             }
            },
            "marker": {
             "colorbar": {
              "outlinewidth": 0,
              "ticks": ""
             }
            },
            "type": "scatter3d"
           }
          ],
          "scattercarpet": [
           {
            "marker": {
             "colorbar": {
              "outlinewidth": 0,
              "ticks": ""
             }
            },
            "type": "scattercarpet"
           }
          ],
          "scattergeo": [
           {
            "marker": {
             "colorbar": {
              "outlinewidth": 0,
              "ticks": ""
             }
            },
            "type": "scattergeo"
           }
          ],
          "scattergl": [
           {
            "marker": {
             "colorbar": {
              "outlinewidth": 0,
              "ticks": ""
             }
            },
            "type": "scattergl"
           }
          ],
          "scattermapbox": [
           {
            "marker": {
             "colorbar": {
              "outlinewidth": 0,
              "ticks": ""
             }
            },
            "type": "scattermapbox"
           }
          ],
          "scatterpolar": [
           {
            "marker": {
             "colorbar": {
              "outlinewidth": 0,
              "ticks": ""
             }
            },
            "type": "scatterpolar"
           }
          ],
          "scatterpolargl": [
           {
            "marker": {
             "colorbar": {
              "outlinewidth": 0,
              "ticks": ""
             }
            },
            "type": "scatterpolargl"
           }
          ],
          "scatterternary": [
           {
            "marker": {
             "colorbar": {
              "outlinewidth": 0,
              "ticks": ""
             }
            },
            "type": "scatterternary"
           }
          ],
          "surface": [
           {
            "colorbar": {
             "outlinewidth": 0,
             "ticks": ""
            },
            "colorscale": [
             [
              0,
              "#0d0887"
             ],
             [
              0.1111111111111111,
              "#46039f"
             ],
             [
              0.2222222222222222,
              "#7201a8"
             ],
             [
              0.3333333333333333,
              "#9c179e"
             ],
             [
              0.4444444444444444,
              "#bd3786"
             ],
             [
              0.5555555555555556,
              "#d8576b"
             ],
             [
              0.6666666666666666,
              "#ed7953"
             ],
             [
              0.7777777777777778,
              "#fb9f3a"
             ],
             [
              0.8888888888888888,
              "#fdca26"
             ],
             [
              1,
              "#f0f921"
             ]
            ],
            "type": "surface"
           }
          ],
          "table": [
           {
            "cells": {
             "fill": {
              "color": "#EBF0F8"
             },
             "line": {
              "color": "white"
             }
            },
            "header": {
             "fill": {
              "color": "#C8D4E3"
             },
             "line": {
              "color": "white"
             }
            },
            "type": "table"
           }
          ]
         },
         "layout": {
          "annotationdefaults": {
           "arrowcolor": "#2a3f5f",
           "arrowhead": 0,
           "arrowwidth": 1
          },
          "autotypenumbers": "strict",
          "coloraxis": {
           "colorbar": {
            "outlinewidth": 0,
            "ticks": ""
           }
          },
          "colorscale": {
           "diverging": [
            [
             0,
             "#8e0152"
            ],
            [
             0.1,
             "#c51b7d"
            ],
            [
             0.2,
             "#de77ae"
            ],
            [
             0.3,
             "#f1b6da"
            ],
            [
             0.4,
             "#fde0ef"
            ],
            [
             0.5,
             "#f7f7f7"
            ],
            [
             0.6,
             "#e6f5d0"
            ],
            [
             0.7,
             "#b8e186"
            ],
            [
             0.8,
             "#7fbc41"
            ],
            [
             0.9,
             "#4d9221"
            ],
            [
             1,
             "#276419"
            ]
           ],
           "sequential": [
            [
             0,
             "#0d0887"
            ],
            [
             0.1111111111111111,
             "#46039f"
            ],
            [
             0.2222222222222222,
             "#7201a8"
            ],
            [
             0.3333333333333333,
             "#9c179e"
            ],
            [
             0.4444444444444444,
             "#bd3786"
            ],
            [
             0.5555555555555556,
             "#d8576b"
            ],
            [
             0.6666666666666666,
             "#ed7953"
            ],
            [
             0.7777777777777778,
             "#fb9f3a"
            ],
            [
             0.8888888888888888,
             "#fdca26"
            ],
            [
             1,
             "#f0f921"
            ]
           ],
           "sequentialminus": [
            [
             0,
             "#0d0887"
            ],
            [
             0.1111111111111111,
             "#46039f"
            ],
            [
             0.2222222222222222,
             "#7201a8"
            ],
            [
             0.3333333333333333,
             "#9c179e"
            ],
            [
             0.4444444444444444,
             "#bd3786"
            ],
            [
             0.5555555555555556,
             "#d8576b"
            ],
            [
             0.6666666666666666,
             "#ed7953"
            ],
            [
             0.7777777777777778,
             "#fb9f3a"
            ],
            [
             0.8888888888888888,
             "#fdca26"
            ],
            [
             1,
             "#f0f921"
            ]
           ]
          },
          "colorway": [
           "#636efa",
           "#EF553B",
           "#00cc96",
           "#ab63fa",
           "#FFA15A",
           "#19d3f3",
           "#FF6692",
           "#B6E880",
           "#FF97FF",
           "#FECB52"
          ],
          "font": {
           "color": "#2a3f5f"
          },
          "geo": {
           "bgcolor": "white",
           "lakecolor": "white",
           "landcolor": "#E5ECF6",
           "showlakes": true,
           "showland": true,
           "subunitcolor": "white"
          },
          "hoverlabel": {
           "align": "left"
          },
          "hovermode": "closest",
          "mapbox": {
           "style": "light"
          },
          "paper_bgcolor": "white",
          "plot_bgcolor": "#E5ECF6",
          "polar": {
           "angularaxis": {
            "gridcolor": "white",
            "linecolor": "white",
            "ticks": ""
           },
           "bgcolor": "#E5ECF6",
           "radialaxis": {
            "gridcolor": "white",
            "linecolor": "white",
            "ticks": ""
           }
          },
          "scene": {
           "xaxis": {
            "backgroundcolor": "#E5ECF6",
            "gridcolor": "white",
            "gridwidth": 2,
            "linecolor": "white",
            "showbackground": true,
            "ticks": "",
            "zerolinecolor": "white"
           },
           "yaxis": {
            "backgroundcolor": "#E5ECF6",
            "gridcolor": "white",
            "gridwidth": 2,
            "linecolor": "white",
            "showbackground": true,
            "ticks": "",
            "zerolinecolor": "white"
           },
           "zaxis": {
            "backgroundcolor": "#E5ECF6",
            "gridcolor": "white",
            "gridwidth": 2,
            "linecolor": "white",
            "showbackground": true,
            "ticks": "",
            "zerolinecolor": "white"
           }
          },
          "shapedefaults": {
           "line": {
            "color": "#2a3f5f"
           }
          },
          "ternary": {
           "aaxis": {
            "gridcolor": "white",
            "linecolor": "white",
            "ticks": ""
           },
           "baxis": {
            "gridcolor": "white",
            "linecolor": "white",
            "ticks": ""
           },
           "bgcolor": "#E5ECF6",
           "caxis": {
            "gridcolor": "white",
            "linecolor": "white",
            "ticks": ""
           }
          },
          "title": {
           "x": 0.05
          },
          "xaxis": {
           "automargin": true,
           "gridcolor": "white",
           "linecolor": "white",
           "ticks": "",
           "title": {
            "standoff": 15
           },
           "zerolinecolor": "white",
           "zerolinewidth": 2
          },
          "yaxis": {
           "automargin": true,
           "gridcolor": "white",
           "linecolor": "white",
           "ticks": "",
           "title": {
            "standoff": 15
           },
           "zerolinecolor": "white",
           "zerolinewidth": 2
          }
         }
        }
       }
      },
      "text/html": [
       "<div>                            <div id=\"374c830c-113f-4fe5-a68b-cdfe56b21cb9\" class=\"plotly-graph-div\" style=\"height:525px; width:100%;\"></div>            <script type=\"text/javascript\">                require([\"plotly\"], function(Plotly) {                    window.PLOTLYENV=window.PLOTLYENV || {};                                    if (document.getElementById(\"374c830c-113f-4fe5-a68b-cdfe56b21cb9\")) {                    Plotly.newPlot(                        \"374c830c-113f-4fe5-a68b-cdfe56b21cb9\",                        [{\"hovertemplate\":\"title=Addressing-Function-Approximation-Error-In-Actor-Critic-Methods<br>PC1=%{x}<br>PC2=%{y}<br>PC3=%{z}<br>text_lenght=%{marker.size}<extra></extra>\",\"legendgroup\":\"Addressing-Function-Approximation-Error-In-Actor-Critic-Methods\",\"marker\":{\"color\":\"#636efa\",\"size\":[4708],\"sizemode\":\"area\",\"sizeref\":13.26,\"symbol\":\"circle\"},\"mode\":\"markers\",\"name\":\"Addressing-Function-Approximation-Error-In-Actor-Critic-Methods\",\"scene\":\"scene\",\"showlegend\":true,\"x\":[-0.36042759730830637],\"y\":[-0.1617600716862448],\"z\":[0.33330531858590656],\"type\":\"scatter3d\"},{\"hovertemplate\":\"title=Attention-is-All-you-need<br>PC1=%{x}<br>PC2=%{y}<br>PC3=%{z}<br>text_lenght=%{marker.size}<extra></extra>\",\"legendgroup\":\"Attention-is-All-you-need\",\"marker\":{\"color\":\"#EF553B\",\"size\":[2885],\"sizemode\":\"area\",\"sizeref\":13.26,\"symbol\":\"circle\"},\"mode\":\"markers\",\"name\":\"Attention-is-All-you-need\",\"scene\":\"scene\",\"showlegend\":true,\"x\":[0.24169940758834352],\"y\":[-0.48286447166704555],\"z\":[-0.3241617871155143],\"type\":\"scatter3d\"},{\"hovertemplate\":\"title=blake2<br>PC1=%{x}<br>PC2=%{y}<br>PC3=%{z}<br>text_lenght=%{marker.size}<extra></extra>\",\"legendgroup\":\"blake2\",\"marker\":{\"color\":\"#00cc96\",\"size\":[2730],\"sizemode\":\"area\",\"sizeref\":13.26,\"symbol\":\"circle\"},\"mode\":\"markers\",\"name\":\"blake2\",\"scene\":\"scene\",\"showlegend\":true,\"x\":[0.5514356044082117],\"y\":[0.6596425895959336],\"z\":[-0.021426501146825754],\"type\":\"scatter3d\"},{\"hovertemplate\":\"title=Deep-Reinforcement-Learning-with-Double-Q-learning<br>PC1=%{x}<br>PC2=%{y}<br>PC3=%{z}<br>text_lenght=%{marker.size}<extra></extra>\",\"legendgroup\":\"Deep-Reinforcement-Learning-with-Double-Q-learning\",\"marker\":{\"color\":\"#ab63fa\",\"size\":[4969],\"sizemode\":\"area\",\"sizeref\":13.26,\"symbol\":\"circle\"},\"mode\":\"markers\",\"name\":\"Deep-Reinforcement-Learning-with-Double-Q-learning\",\"scene\":\"scene\",\"showlegend\":true,\"x\":[-0.41549071066034826],\"y\":[0.049238723448604846],\"z\":[-0.10892319569344416],\"type\":\"scatter3d\"},{\"hovertemplate\":\"title=Distributional-Reinforcement-Learning-With-Quantile-Regression<br>PC1=%{x}<br>PC2=%{y}<br>PC3=%{z}<br>text_lenght=%{marker.size}<extra></extra>\",\"legendgroup\":\"Distributional-Reinforcement-Learning-With-Quantile-Regression\",\"marker\":{\"color\":\"#FFA15A\",\"size\":[4974],\"sizemode\":\"area\",\"sizeref\":13.26,\"symbol\":\"circle\"},\"mode\":\"markers\",\"name\":\"Distributional-Reinforcement-Learning-With-Quantile-Regression\",\"scene\":\"scene\",\"showlegend\":true,\"x\":[-0.43733123316864847],\"y\":[0.15265269448699664],\"z\":[0.19368166422869373],\"type\":\"scatter3d\"},{\"hovertemplate\":\"title=Dueling-Network-Architectures-For-Deep-reingorcement-learning<br>PC1=%{x}<br>PC2=%{y}<br>PC3=%{z}<br>text_lenght=%{marker.size}<extra></extra>\",\"legendgroup\":\"Dueling-Network-Architectures-For-Deep-reingorcement-learning\",\"marker\":{\"color\":\"#19d3f3\",\"size\":[3361],\"sizemode\":\"area\",\"sizeref\":13.26,\"symbol\":\"circle\"},\"mode\":\"markers\",\"name\":\"Dueling-Network-Architectures-For-Deep-reingorcement-learning\",\"scene\":\"scene\",\"showlegend\":true,\"x\":[-0.08506076989499092],\"y\":[0.09440727879268641],\"z\":[-0.3279780818992055],\"type\":\"scatter3d\"},{\"hovertemplate\":\"title=GeneticAlgo<br>PC1=%{x}<br>PC2=%{y}<br>PC3=%{z}<br>text_lenght=%{marker.size}<extra></extra>\",\"legendgroup\":\"GeneticAlgo\",\"marker\":{\"color\":\"#FF6692\",\"size\":[5304],\"sizemode\":\"area\",\"sizeref\":13.26,\"symbol\":\"circle\"},\"mode\":\"markers\",\"name\":\"GeneticAlgo\",\"scene\":\"scene\",\"showlegend\":true,\"x\":[0.28127286611695806],\"y\":[-0.014669193324817932],\"z\":[0.588086905314569],\"type\":\"scatter3d\"},{\"hovertemplate\":\"title=Rainbow-Combining-Improvements-In-Deep-Reinforcement-Learning<br>PC1=%{x}<br>PC2=%{y}<br>PC3=%{z}<br>text_lenght=%{marker.size}<extra></extra>\",\"legendgroup\":\"Rainbow-Combining-Improvements-In-Deep-Reinforcement-Learning\",\"marker\":{\"color\":\"#B6E880\",\"size\":[3979],\"sizemode\":\"area\",\"sizeref\":13.26,\"symbol\":\"circle\"},\"mode\":\"markers\",\"name\":\"Rainbow-Combining-Improvements-In-Deep-Reinforcement-Learning\",\"scene\":\"scene\",\"showlegend\":true,\"x\":[-0.14513187295953306],\"y\":[0.187677843319096],\"z\":[-0.3484632441651343],\"type\":\"scatter3d\"},{\"hovertemplate\":\"title=whisper<br>PC1=%{x}<br>PC2=%{y}<br>PC3=%{z}<br>text_lenght=%{marker.size}<extra></extra>\",\"legendgroup\":\"whisper\",\"marker\":{\"color\":\"#FF97FF\",\"size\":[4615],\"sizemode\":\"area\",\"sizeref\":13.26,\"symbol\":\"circle\"},\"mode\":\"markers\",\"name\":\"whisper\",\"scene\":\"scene\",\"showlegend\":true,\"x\":[0.3690343058783136],\"y\":[-0.484325392965209],\"z\":[0.01587892189095465],\"type\":\"scatter3d\"}],                        {\"template\":{\"data\":{\"histogram2dcontour\":[{\"type\":\"histogram2dcontour\",\"colorbar\":{\"outlinewidth\":0,\"ticks\":\"\"},\"colorscale\":[[0.0,\"#0d0887\"],[0.1111111111111111,\"#46039f\"],[0.2222222222222222,\"#7201a8\"],[0.3333333333333333,\"#9c179e\"],[0.4444444444444444,\"#bd3786\"],[0.5555555555555556,\"#d8576b\"],[0.6666666666666666,\"#ed7953\"],[0.7777777777777778,\"#fb9f3a\"],[0.8888888888888888,\"#fdca26\"],[1.0,\"#f0f921\"]]}],\"choropleth\":[{\"type\":\"choropleth\",\"colorbar\":{\"outlinewidth\":0,\"ticks\":\"\"}}],\"histogram2d\":[{\"type\":\"histogram2d\",\"colorbar\":{\"outlinewidth\":0,\"ticks\":\"\"},\"colorscale\":[[0.0,\"#0d0887\"],[0.1111111111111111,\"#46039f\"],[0.2222222222222222,\"#7201a8\"],[0.3333333333333333,\"#9c179e\"],[0.4444444444444444,\"#bd3786\"],[0.5555555555555556,\"#d8576b\"],[0.6666666666666666,\"#ed7953\"],[0.7777777777777778,\"#fb9f3a\"],[0.8888888888888888,\"#fdca26\"],[1.0,\"#f0f921\"]]}],\"heatmap\":[{\"type\":\"heatmap\",\"colorbar\":{\"outlinewidth\":0,\"ticks\":\"\"},\"colorscale\":[[0.0,\"#0d0887\"],[0.1111111111111111,\"#46039f\"],[0.2222222222222222,\"#7201a8\"],[0.3333333333333333,\"#9c179e\"],[0.4444444444444444,\"#bd3786\"],[0.5555555555555556,\"#d8576b\"],[0.6666666666666666,\"#ed7953\"],[0.7777777777777778,\"#fb9f3a\"],[0.8888888888888888,\"#fdca26\"],[1.0,\"#f0f921\"]]}],\"heatmapgl\":[{\"type\":\"heatmapgl\",\"colorbar\":{\"outlinewidth\":0,\"ticks\":\"\"},\"colorscale\":[[0.0,\"#0d0887\"],[0.1111111111111111,\"#46039f\"],[0.2222222222222222,\"#7201a8\"],[0.3333333333333333,\"#9c179e\"],[0.4444444444444444,\"#bd3786\"],[0.5555555555555556,\"#d8576b\"],[0.6666666666666666,\"#ed7953\"],[0.7777777777777778,\"#fb9f3a\"],[0.8888888888888888,\"#fdca26\"],[1.0,\"#f0f921\"]]}],\"contourcarpet\":[{\"type\":\"contourcarpet\",\"colorbar\":{\"outlinewidth\":0,\"ticks\":\"\"}}],\"contour\":[{\"type\":\"contour\",\"colorbar\":{\"outlinewidth\":0,\"ticks\":\"\"},\"colorscale\":[[0.0,\"#0d0887\"],[0.1111111111111111,\"#46039f\"],[0.2222222222222222,\"#7201a8\"],[0.3333333333333333,\"#9c179e\"],[0.4444444444444444,\"#bd3786\"],[0.5555555555555556,\"#d8576b\"],[0.6666666666666666,\"#ed7953\"],[0.7777777777777778,\"#fb9f3a\"],[0.8888888888888888,\"#fdca26\"],[1.0,\"#f0f921\"]]}],\"surface\":[{\"type\":\"surface\",\"colorbar\":{\"outlinewidth\":0,\"ticks\":\"\"},\"colorscale\":[[0.0,\"#0d0887\"],[0.1111111111111111,\"#46039f\"],[0.2222222222222222,\"#7201a8\"],[0.3333333333333333,\"#9c179e\"],[0.4444444444444444,\"#bd3786\"],[0.5555555555555556,\"#d8576b\"],[0.6666666666666666,\"#ed7953\"],[0.7777777777777778,\"#fb9f3a\"],[0.8888888888888888,\"#fdca26\"],[1.0,\"#f0f921\"]]}],\"mesh3d\":[{\"type\":\"mesh3d\",\"colorbar\":{\"outlinewidth\":0,\"ticks\":\"\"}}],\"scatter\":[{\"fillpattern\":{\"fillmode\":\"overlay\",\"size\":10,\"solidity\":0.2},\"type\":\"scatter\"}],\"parcoords\":[{\"type\":\"parcoords\",\"line\":{\"colorbar\":{\"outlinewidth\":0,\"ticks\":\"\"}}}],\"scatterpolargl\":[{\"type\":\"scatterpolargl\",\"marker\":{\"colorbar\":{\"outlinewidth\":0,\"ticks\":\"\"}}}],\"bar\":[{\"error_x\":{\"color\":\"#2a3f5f\"},\"error_y\":{\"color\":\"#2a3f5f\"},\"marker\":{\"line\":{\"color\":\"#E5ECF6\",\"width\":0.5},\"pattern\":{\"fillmode\":\"overlay\",\"size\":10,\"solidity\":0.2}},\"type\":\"bar\"}],\"scattergeo\":[{\"type\":\"scattergeo\",\"marker\":{\"colorbar\":{\"outlinewidth\":0,\"ticks\":\"\"}}}],\"scatterpolar\":[{\"type\":\"scatterpolar\",\"marker\":{\"colorbar\":{\"outlinewidth\":0,\"ticks\":\"\"}}}],\"histogram\":[{\"marker\":{\"pattern\":{\"fillmode\":\"overlay\",\"size\":10,\"solidity\":0.2}},\"type\":\"histogram\"}],\"scattergl\":[{\"type\":\"scattergl\",\"marker\":{\"colorbar\":{\"outlinewidth\":0,\"ticks\":\"\"}}}],\"scatter3d\":[{\"type\":\"scatter3d\",\"line\":{\"colorbar\":{\"outlinewidth\":0,\"ticks\":\"\"}},\"marker\":{\"colorbar\":{\"outlinewidth\":0,\"ticks\":\"\"}}}],\"scattermapbox\":[{\"type\":\"scattermapbox\",\"marker\":{\"colorbar\":{\"outlinewidth\":0,\"ticks\":\"\"}}}],\"scatterternary\":[{\"type\":\"scatterternary\",\"marker\":{\"colorbar\":{\"outlinewidth\":0,\"ticks\":\"\"}}}],\"scattercarpet\":[{\"type\":\"scattercarpet\",\"marker\":{\"colorbar\":{\"outlinewidth\":0,\"ticks\":\"\"}}}],\"carpet\":[{\"aaxis\":{\"endlinecolor\":\"#2a3f5f\",\"gridcolor\":\"white\",\"linecolor\":\"white\",\"minorgridcolor\":\"white\",\"startlinecolor\":\"#2a3f5f\"},\"baxis\":{\"endlinecolor\":\"#2a3f5f\",\"gridcolor\":\"white\",\"linecolor\":\"white\",\"minorgridcolor\":\"white\",\"startlinecolor\":\"#2a3f5f\"},\"type\":\"carpet\"}],\"table\":[{\"cells\":{\"fill\":{\"color\":\"#EBF0F8\"},\"line\":{\"color\":\"white\"}},\"header\":{\"fill\":{\"color\":\"#C8D4E3\"},\"line\":{\"color\":\"white\"}},\"type\":\"table\"}],\"barpolar\":[{\"marker\":{\"line\":{\"color\":\"#E5ECF6\",\"width\":0.5},\"pattern\":{\"fillmode\":\"overlay\",\"size\":10,\"solidity\":0.2}},\"type\":\"barpolar\"}],\"pie\":[{\"automargin\":true,\"type\":\"pie\"}]},\"layout\":{\"autotypenumbers\":\"strict\",\"colorway\":[\"#636efa\",\"#EF553B\",\"#00cc96\",\"#ab63fa\",\"#FFA15A\",\"#19d3f3\",\"#FF6692\",\"#B6E880\",\"#FF97FF\",\"#FECB52\"],\"font\":{\"color\":\"#2a3f5f\"},\"hovermode\":\"closest\",\"hoverlabel\":{\"align\":\"left\"},\"paper_bgcolor\":\"white\",\"plot_bgcolor\":\"#E5ECF6\",\"polar\":{\"bgcolor\":\"#E5ECF6\",\"angularaxis\":{\"gridcolor\":\"white\",\"linecolor\":\"white\",\"ticks\":\"\"},\"radialaxis\":{\"gridcolor\":\"white\",\"linecolor\":\"white\",\"ticks\":\"\"}},\"ternary\":{\"bgcolor\":\"#E5ECF6\",\"aaxis\":{\"gridcolor\":\"white\",\"linecolor\":\"white\",\"ticks\":\"\"},\"baxis\":{\"gridcolor\":\"white\",\"linecolor\":\"white\",\"ticks\":\"\"},\"caxis\":{\"gridcolor\":\"white\",\"linecolor\":\"white\",\"ticks\":\"\"}},\"coloraxis\":{\"colorbar\":{\"outlinewidth\":0,\"ticks\":\"\"}},\"colorscale\":{\"sequential\":[[0.0,\"#0d0887\"],[0.1111111111111111,\"#46039f\"],[0.2222222222222222,\"#7201a8\"],[0.3333333333333333,\"#9c179e\"],[0.4444444444444444,\"#bd3786\"],[0.5555555555555556,\"#d8576b\"],[0.6666666666666666,\"#ed7953\"],[0.7777777777777778,\"#fb9f3a\"],[0.8888888888888888,\"#fdca26\"],[1.0,\"#f0f921\"]],\"sequentialminus\":[[0.0,\"#0d0887\"],[0.1111111111111111,\"#46039f\"],[0.2222222222222222,\"#7201a8\"],[0.3333333333333333,\"#9c179e\"],[0.4444444444444444,\"#bd3786\"],[0.5555555555555556,\"#d8576b\"],[0.6666666666666666,\"#ed7953\"],[0.7777777777777778,\"#fb9f3a\"],[0.8888888888888888,\"#fdca26\"],[1.0,\"#f0f921\"]],\"diverging\":[[0,\"#8e0152\"],[0.1,\"#c51b7d\"],[0.2,\"#de77ae\"],[0.3,\"#f1b6da\"],[0.4,\"#fde0ef\"],[0.5,\"#f7f7f7\"],[0.6,\"#e6f5d0\"],[0.7,\"#b8e186\"],[0.8,\"#7fbc41\"],[0.9,\"#4d9221\"],[1,\"#276419\"]]},\"xaxis\":{\"gridcolor\":\"white\",\"linecolor\":\"white\",\"ticks\":\"\",\"title\":{\"standoff\":15},\"zerolinecolor\":\"white\",\"automargin\":true,\"zerolinewidth\":2},\"yaxis\":{\"gridcolor\":\"white\",\"linecolor\":\"white\",\"ticks\":\"\",\"title\":{\"standoff\":15},\"zerolinecolor\":\"white\",\"automargin\":true,\"zerolinewidth\":2},\"scene\":{\"xaxis\":{\"backgroundcolor\":\"#E5ECF6\",\"gridcolor\":\"white\",\"linecolor\":\"white\",\"showbackground\":true,\"ticks\":\"\",\"zerolinecolor\":\"white\",\"gridwidth\":2},\"yaxis\":{\"backgroundcolor\":\"#E5ECF6\",\"gridcolor\":\"white\",\"linecolor\":\"white\",\"showbackground\":true,\"ticks\":\"\",\"zerolinecolor\":\"white\",\"gridwidth\":2},\"zaxis\":{\"backgroundcolor\":\"#E5ECF6\",\"gridcolor\":\"white\",\"linecolor\":\"white\",\"showbackground\":true,\"ticks\":\"\",\"zerolinecolor\":\"white\",\"gridwidth\":2}},\"shapedefaults\":{\"line\":{\"color\":\"#2a3f5f\"}},\"annotationdefaults\":{\"arrowcolor\":\"#2a3f5f\",\"arrowhead\":0,\"arrowwidth\":1},\"geo\":{\"bgcolor\":\"white\",\"landcolor\":\"#E5ECF6\",\"subunitcolor\":\"white\",\"showland\":true,\"showlakes\":true,\"lakecolor\":\"white\"},\"title\":{\"x\":0.05},\"mapbox\":{\"style\":\"light\"}}},\"scene\":{\"domain\":{\"x\":[0.0,1.0],\"y\":[0.0,1.0]},\"xaxis\":{\"title\":{\"text\":\"PC1\"}},\"yaxis\":{\"title\":{\"text\":\"PC2\"}},\"zaxis\":{\"title\":{\"text\":\"PC3\"}}},\"legend\":{\"title\":{\"text\":\"title\"},\"tracegroupgap\":0,\"itemsizing\":\"constant\"},\"margin\":{\"t\":0,\"l\":0,\"r\":0,\"b\":0}},                        {\"responsive\": true}                    ).then(function(){\n",
       "                            \n",
       "var gd = document.getElementById('374c830c-113f-4fe5-a68b-cdfe56b21cb9');\n",
       "var x = new MutationObserver(function (mutations, observer) {{\n",
       "        var display = window.getComputedStyle(gd).display;\n",
       "        if (!display || display === 'none') {{\n",
       "            console.log([gd, 'removed!']);\n",
       "            Plotly.purge(gd);\n",
       "            observer.disconnect();\n",
       "        }}\n",
       "}});\n",
       "\n",
       "// Listen for the removal of the full notebook cells\n",
       "var notebookContainer = gd.closest('#notebook-container');\n",
       "if (notebookContainer) {{\n",
       "    x.observe(notebookContainer, {childList: true});\n",
       "}}\n",
       "\n",
       "// Listen for the clearing of the current output cell\n",
       "var outputEl = gd.closest('.output');\n",
       "if (outputEl) {{\n",
       "    x.observe(outputEl, {childList: true});\n",
       "}}\n",
       "\n",
       "                        })                };                });            </script>        </div>"
      ]
     },
     "metadata": {},
     "output_type": "display_data"
    }
   ],
   "source": [
    "import plotly.express as px\n",
    "\n",
    "# Configure the trace.\n",
    "fig = px.scatter_3d(new_pca_df,\n",
    "    x='PC1',  # <-- Put your data instead\n",
    "    y='PC2',  # <-- Put your data instead\n",
    "    z='PC3',  # <-- Put your data instead\n",
    "    size='text_lenght',\n",
    "    color='title'\n",
    ")\n",
    "\n",
    "fig.update_layout(margin=dict(l=0, r=0, b=0, t=0))\n",
    "\n",
    "fig.show()"
   ]
  },
  {
   "cell_type": "code",
   "execution_count": null,
   "id": "73a4c219",
   "metadata": {},
   "outputs": [],
   "source": []
  }
 ],
 "metadata": {
  "kernelspec": {
   "display_name": "Python 3 (ipykernel)",
   "language": "python",
   "name": "python3"
  },
  "language_info": {
   "codemirror_mode": {
    "name": "ipython",
    "version": 3
   },
   "file_extension": ".py",
   "mimetype": "text/x-python",
   "name": "python",
   "nbconvert_exporter": "python",
   "pygments_lexer": "ipython3",
   "version": "3.10.9"
  }
 },
 "nbformat": 4,
 "nbformat_minor": 5
}
