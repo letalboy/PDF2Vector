{
 "cells": [
  {
   "cell_type": "code",
   "execution_count": 39,
   "id": "c6c38c96",
   "metadata": {},
   "outputs": [],
   "source": [
    "import os\n",
    "import PyPDF2\n",
    "import pandas as pd"
   ]
  },
  {
   "cell_type": "code",
   "execution_count": 40,
   "id": "afc242e7",
   "metadata": {},
   "outputs": [],
   "source": [
    "PDFS_DIR = \"./pdfs/\"\n",
    "\n",
    "pdfs_processed = []\n",
    "for root, dirs, files in os.walk(PDFS_DIR, topdown=False):\n",
    "    for name in files:\n",
    "        pdfs_processed.append({'path':os.path.join(root, name), 'name':name.split(\".\")[0].split(\"_\")[0], 'id':name.split(\".\")[0].split(\"_\")[1]})"
   ]
  },
  {
   "cell_type": "code",
   "execution_count": 41,
   "id": "15b34183",
   "metadata": {},
   "outputs": [],
   "source": [
    "texts = []\n",
    "names = []\n",
    "ids   = []\n",
    "\n",
    "data = []\n",
    "\n",
    "for pdf in pdfs_processed:\n",
    "\n",
    "    with open(pdf['path'],'rb') as pdf_file:\n",
    " \n",
    "        pdfreader = PyPDF2.PdfReader(pdf_file)\n",
    "\n",
    "        x = len(pdfreader.pages)\n",
    "\n",
    "        pageobj=pdfreader.pages[0] # -> x + 1 because python start in 0, so 0 + 1 => page 1 (start)\n",
    "\n",
    "        point = [pdf['id'], pdf['name'], pageobj.extract_text().replace(\"[\", \"(\").replace(\"]\", \")\")]\n",
    "        \n",
    "        data.append(point)\n",
    "        \n",
    "    pdf_file.close()\n",
    "\n"
   ]
  },
  {
   "cell_type": "code",
   "execution_count": 42,
   "id": "796bc7ba",
   "metadata": {},
   "outputs": [],
   "source": [
    "pdf_df = pd.DataFrame(data, columns=['text_id', 'title', 'text'])"
   ]
  },
  {
   "cell_type": "code",
   "execution_count": 43,
   "id": "7e4f2cd6",
   "metadata": {},
   "outputs": [
    {
     "data": {
      "text/html": [
       "<div>\n",
       "<style scoped>\n",
       "    .dataframe tbody tr th:only-of-type {\n",
       "        vertical-align: middle;\n",
       "    }\n",
       "\n",
       "    .dataframe tbody tr th {\n",
       "        vertical-align: top;\n",
       "    }\n",
       "\n",
       "    .dataframe thead th {\n",
       "        text-align: right;\n",
       "    }\n",
       "</style>\n",
       "<table border=\"1\" class=\"dataframe\">\n",
       "  <thead>\n",
       "    <tr style=\"text-align: right;\">\n",
       "      <th></th>\n",
       "      <th>text_id</th>\n",
       "      <th>title</th>\n",
       "      <th>text</th>\n",
       "    </tr>\n",
       "  </thead>\n",
       "  <tbody>\n",
       "    <tr>\n",
       "      <th>0</th>\n",
       "      <td>1706</td>\n",
       "      <td>attention</td>\n",
       "      <td>Provided proper attribution is provided, Googl...</td>\n",
       "    </tr>\n",
       "    <tr>\n",
       "      <th>1</th>\n",
       "      <td>2103</td>\n",
       "      <td>crispr-cas9</td>\n",
       "      <td>arXiv:2103.10667v2  (q-bio.SC)  4 Oct 2021Sear...</td>\n",
       "    </tr>\n",
       "    <tr>\n",
       "      <th>2</th>\n",
       "      <td>2401</td>\n",
       "      <td>mamba</td>\n",
       "      <td>MambaByte: Token-free Selective State Space Mo...</td>\n",
       "    </tr>\n",
       "    <tr>\n",
       "      <th>3</th>\n",
       "      <td>1404</td>\n",
       "      <td>pca</td>\n",
       "      <td>A Tutorial on Principal Component Analysis\\nJo...</td>\n",
       "    </tr>\n",
       "    <tr>\n",
       "      <th>4</th>\n",
       "      <td>2304</td>\n",
       "      <td>rnn</td>\n",
       "      <td>To appear as a part of an upcoming textbook on...</td>\n",
       "    </tr>\n",
       "    <tr>\n",
       "      <th>5</th>\n",
       "      <td>attention</td>\n",
       "      <td>self</td>\n",
       "      <td>STORY DIFFUSION : C ONSISTENT SELF-ATTENTION\\n...</td>\n",
       "    </tr>\n",
       "    <tr>\n",
       "      <th>6</th>\n",
       "      <td>1812</td>\n",
       "      <td>xnet</td>\n",
       "      <td>XNet: A convolutional neural network (CNN)\\nim...</td>\n",
       "    </tr>\n",
       "  </tbody>\n",
       "</table>\n",
       "</div>"
      ],
      "text/plain": [
       "     text_id        title                                               text\n",
       "0       1706    attention  Provided proper attribution is provided, Googl...\n",
       "1       2103  crispr-cas9  arXiv:2103.10667v2  (q-bio.SC)  4 Oct 2021Sear...\n",
       "2       2401        mamba  MambaByte: Token-free Selective State Space Mo...\n",
       "3       1404          pca  A Tutorial on Principal Component Analysis\\nJo...\n",
       "4       2304          rnn  To appear as a part of an upcoming textbook on...\n",
       "5  attention         self  STORY DIFFUSION : C ONSISTENT SELF-ATTENTION\\n...\n",
       "6       1812         xnet  XNet: A convolutional neural network (CNN)\\nim..."
      ]
     },
     "execution_count": 43,
     "metadata": {},
     "output_type": "execute_result"
    }
   ],
   "source": [
    "pdf_df"
   ]
  },
  {
   "cell_type": "code",
   "execution_count": 44,
   "id": "7466070e",
   "metadata": {},
   "outputs": [],
   "source": [
    "from sentence_transformers import SentenceTransformer\n",
    "\n",
    "def embed_text(text): \n",
    "    \n",
    "    model = SentenceTransformer('all-mpnet-base-v2')\n",
    "#     model = SentenceTransformer('multi-qa-mpnet-base-cos-v1')\n",
    "\n",
    "    response = model.encode(text, convert_to_tensor=True)\n",
    "\n",
    "    response = response.cpu().detach().numpy()\n",
    "\n",
    "    return response"
   ]
  },
  {
   "cell_type": "code",
   "execution_count": 45,
   "id": "5e5ee4c8",
   "metadata": {},
   "outputs": [
    {
     "name": "stderr",
     "output_type": "stream",
     "text": [
      "C:\\Users\\crist\\AppData\\Local\\Programs\\Python\\Python310\\lib\\site-packages\\huggingface_hub\\file_download.py:1132: FutureWarning:\n",
      "\n",
      "`resume_download` is deprecated and will be removed in version 1.0.0. Downloads always resume when possible. If you want to force a new download, use `force_download=True`.\n",
      "\n"
     ]
    }
   ],
   "source": [
    "pdf_df['text_vector'] = pdf_df['text'].apply(embed_text)"
   ]
  },
  {
   "cell_type": "code",
   "execution_count": 46,
   "id": "e288aafc",
   "metadata": {},
   "outputs": [],
   "source": [
    "import seaborn as sns\n",
    "from sklearn.decomposition import PCA"
   ]
  },
  {
   "cell_type": "code",
   "execution_count": 47,
   "id": "b01541f5",
   "metadata": {},
   "outputs": [],
   "source": [
    "# retrieve the embedding vectors from the search results\n",
    "vectors = pdf_df.loc[:, \"text_vector\"].to_list()\n",
    "\n",
    "# apply PCA to reduce the dimensionality of the vectors to 3 dimensions\n",
    "pca = PCA(n_components=2)\n",
    "reduced_vectors = pca.fit_transform(vectors)\n",
    "\n",
    "# create a dataframe with the reduced vectors\n",
    "new_pca_df = pd.DataFrame(reduced_vectors, columns=['PC1', 'PC2'])\n",
    "\n",
    "new_pca_df['text_lenght'] = pdf_df['text'].apply(len)\n",
    "new_pca_df['title'] = pdf_df['title']"
   ]
  },
  {
   "cell_type": "code",
   "execution_count": 48,
   "id": "c9711fa2",
   "metadata": {
    "scrolled": true
   },
   "outputs": [
    {
     "data": {
      "image/png": "[encoded data removed]",
      "text/plain": [
       "<Figure size 640x480 with 1 Axes>"
      ]
     },
     "metadata": {},
     "output_type": "display_data"
    }
   ],
   "source": [
    "# for creating a responsive plot\n",
    "import ipympl\n",
    "%matplotlib widget\n",
    "%matplotlib inline\n",
    "\n",
    "import matplotlib.pyplot as plt\n",
    "\n",
    "# use seaborn's scatterplot function to visualize the clusters\n",
    "sns.scatterplot(data=new_pca_df, x='PC1', y='PC2', hue='title', size='text_lenght', palette='viridis')\n",
    "\n",
    "# Put the legend out of the figure\n",
    "plt.legend(bbox_to_anchor=(1.05, 1), loc=2, borderaxespad=0.)\n",
    "\n",
    "\n",
    "plt.show()"
   ]
  },
  {
   "cell_type": "code",
   "execution_count": 49,
   "id": "42104d56",
   "metadata": {},
   "outputs": [],
   "source": [
    "\n",
    "# retrieve the embedding vectors from the search results\n",
    "vectors = pdf_df.loc[:, \"text_vector\"].to_list()\n",
    "\n",
    "# apply PCA to reduce the dimensionality of the vectors to 3 dimensions\n",
    "pca = PCA(n_components=3)\n",
    "reduced_vectors = pca.fit_transform(vectors)\n",
    "\n",
    "# create a dataframe with the reduced vectors\n",
    "new_pca_df = pd.DataFrame(reduced_vectors, columns=['PC1', 'PC2', 'PC3'])\n",
    "\n",
    "new_pca_df['text_lenght'] = pdf_df['text'].apply(len)\n",
    "new_pca_df['title'] = pdf_df['title']\n"
   ]
  },
  {
   "cell_type": "code",
   "execution_count": 50,
   "id": "73a4c219",
   "metadata": {},
   "outputs": [
    {
     "data": {
      "application/vnd.plotly.v1+json": {
       "config": {
        "plotlyServerURL": "https://plot.ly"
       },
       "data": [
        {
         "hovertemplate": "title=attention<br>PC1=%{x}<br>PC2=%{y}<br>PC3=%{z}<br>text_lenght=%{marker.size}<extra></extra>",
         "legendgroup": "attention",
         "marker": {
          "color": "#636efa",
          "size": [
           2853
          ],
          "sizemode": "area",
          "sizeref": 13.6575,
          "symbol": "circle"
         },
         "mode": "markers",
         "name": "attention",
         "scene": "scene",
         "showlegend": true,
         "type": "scatter3d",
         "x": [
          -0.40651791774907026
         ],
         "y": [
          0.10527401110289009
         ],
         "z": [
          -0.06442505407946322
         ]
        },
        {
         "hovertemplate": "title=crispr-cas9<br>PC1=%{x}<br>PC2=%{y}<br>PC3=%{z}<br>text_lenght=%{marker.size}<extra></extra>",
         "legendgroup": "crispr-cas9",
         "marker": {
          "color": "#EF553B",
          "size": [
           5463
          ],
          "sizemode": "area",
          "sizeref": 13.6575,
          "symbol": "circle"
         },
         "mode": "markers",
         "name": "crispr-cas9",
         "scene": "scene",
         "showlegend": true,
         "type": "scatter3d",
         "x": [
          0.6119461639042708
         ],
         "y": [
          0.7228578402705715
         ],
         "z": [
          0.07187555988795402
         ]
        },
        {
         "hovertemplate": "title=mamba<br>PC1=%{x}<br>PC2=%{y}<br>PC3=%{z}<br>text_lenght=%{marker.size}<extra></extra>",
         "legendgroup": "mamba",
         "marker": {
          "color": "#00cc96",
          "size": [
           1944
          ],
          "sizemode": "area",
          "sizeref": 13.6575,
          "symbol": "circle"
         },
         "mode": "markers",
         "name": "mamba",
         "scene": "scene",
         "showlegend": true,
         "type": "scatter3d",
         "x": [
          -0.4427917095936466
         ],
         "y": [
          0.20175421320472672
         ],
         "z": [
          0.2355812100354239
         ]
        },
        {
         "hovertemplate": "title=pca<br>PC1=%{x}<br>PC2=%{y}<br>PC3=%{z}<br>text_lenght=%{marker.size}<extra></extra>",
         "legendgroup": "pca",
         "marker": {
          "color": "#ab63fa",
          "size": [
           5020
          ],
          "sizemode": "area",
          "sizeref": 13.6575,
          "symbol": "circle"
         },
         "mode": "markers",
         "name": "pca",
         "scene": "scene",
         "showlegend": true,
         "type": "scatter3d",
         "x": [
          0.49825340640239335
         ],
         "y": [
          -0.40482796501489776
         ],
         "z": [
          -0.47683357234720675
         ]
        },
        {
         "hovertemplate": "title=rnn<br>PC1=%{x}<br>PC2=%{y}<br>PC3=%{z}<br>text_lenght=%{marker.size}<extra></extra>",
         "legendgroup": "rnn",
         "marker": {
          "color": "#FFA15A",
          "size": [
           4022
          ],
          "sizemode": "area",
          "sizeref": 13.6575,
          "symbol": "circle"
         },
         "mode": "markers",
         "name": "rnn",
         "scene": "scene",
         "showlegend": true,
         "type": "scatter3d",
         "x": [
          -0.314759842797617
         ],
         "y": [
          -0.07776076443890353
         ],
         "z": [
          -0.0982278719388497
         ]
        },
        {
         "hovertemplate": "title=self<br>PC1=%{x}<br>PC2=%{y}<br>PC3=%{z}<br>text_lenght=%{marker.size}<extra></extra>",
         "legendgroup": "self",
         "marker": {
          "color": "#19d3f3",
          "size": [
           3695
          ],
          "sizemode": "area",
          "sizeref": 13.6575,
          "symbol": "circle"
         },
         "mode": "markers",
         "name": "self",
         "scene": "scene",
         "showlegend": true,
         "type": "scatter3d",
         "x": [
          -0.2332387990546062
         ],
         "y": [
          -0.04640274977900101
         ],
         "z": [
          -0.27957592605256365
         ]
        },
        {
         "hovertemplate": "title=xnet<br>PC1=%{x}<br>PC2=%{y}<br>PC3=%{z}<br>text_lenght=%{marker.size}<extra></extra>",
         "legendgroup": "xnet",
         "marker": {
          "color": "#FF6692",
          "size": [
           3811
          ],
          "sizemode": "area",
          "sizeref": 13.6575,
          "symbol": "circle"
         },
         "mode": "markers",
         "name": "xnet",
         "scene": "scene",
         "showlegend": true,
         "type": "scatter3d",
         "x": [
          0.28710869888827617
         ],
         "y": [
          -0.500894585345386
         ],
         "z": [
          0.6116056544947048
         ]
        }
       ],
       "layout": {
        "autosize": true,
        "dragmode": "zoom",
        "legend": {
         "itemsizing": "constant",
         "title": {
          "text": "title"
         },
         "tracegroupgap": 0
        },
        "margin": {
         "b": 0,
         "l": 0,
         "r": 0,
         "t": 0
        },
        "scene": {
         "aspectmode": "auto",
         "aspectratio": {
          "x": 0.9417387561925299,
          "y": 1.092645970287554,
          "z": 0.9718295222280028
         },
         "camera": {
          "center": {
           "x": 4.440892098500626e-16,
           "y": 1.3322676295501878e-15,
           "z": 1.1102230246251565e-16
          },
          "eye": {
           "x": 3.9123616149965104,
           "y": -5.304275126778432,
           "z": -0.18607108767491118
          },
          "projection": {
           "type": "perspective"
          },
          "up": {
           "x": -0.5720035499192551,
           "y": -0.4460496879365587,
           "z": 0.6883688072330626
          }
         },
         "domain": {
          "x": [
           0,
           1
          ],
          "y": [
           0,
           1
          ]
         },
         "dragmode": "orbit",
         "xaxis": {
          "title": {
           "text": "PC1"
          },
          "type": "linear"
         },
         "yaxis": {
          "title": {
           "text": "PC2"
          },
          "type": "linear"
         },
         "zaxis": {
          "title": {
           "text": "PC3"
          },
          "type": "linear"
         }
        },
        "template": {
         "data": {
          "bar": [
           {
            "error_x": {
             "color": "#2a3f5f"
            },
            "error_y": {
             "color": "#2a3f5f"
            },
            "marker": {
             "line": {
              "color": "#E5ECF6",
              "width": 0.5
             },
             "pattern": {
              "fillmode": "overlay",
              "size": 10,
              "solidity": 0.2
             }
            },
            "type": "bar"
           }
          ],
          "barpolar": [
           {
            "marker": {
             "line": {
              "color": "#E5ECF6",
              "width": 0.5
             },
             "pattern": {
              "fillmode": "overlay",
              "size": 10,
              "solidity": 0.2
             }
            },
            "type": "barpolar"
           }
          ],
          "carpet": [
           {
            "aaxis": {
             "endlinecolor": "#2a3f5f",
             "gridcolor": "white",
             "linecolor": "white",
             "minorgridcolor": "white",
             "startlinecolor": "#2a3f5f"
            },
            "baxis": {
             "endlinecolor": "#2a3f5f",
             "gridcolor": "white",
             "linecolor": "white",
             "minorgridcolor": "white",
             "startlinecolor": "#2a3f5f"
            },
            "type": "carpet"
           }
          ],
          "choropleth": [
           {
            "colorbar": {
             "outlinewidth": 0,
             "ticks": ""
            },
            "type": "choropleth"
           }
          ],
          "contour": [
           {
            "colorbar": {
             "outlinewidth": 0,
             "ticks": ""
            },
            "colorscale": [
             [
              0,
              "#0d0887"
             ],
             [
              0.1111111111111111,
              "#46039f"
             ],
             [
              0.2222222222222222,
              "#7201a8"
             ],
             [
              0.3333333333333333,
              "#9c179e"
             ],
             [
              0.4444444444444444,
              "#bd3786"
             ],
             [
              0.5555555555555556,
              "#d8576b"
             ],
             [
              0.6666666666666666,
              "#ed7953"
             ],
             [
              0.7777777777777778,
              "#fb9f3a"
             ],
             [
              0.8888888888888888,
              "#fdca26"
             ],
             [
              1,
              "#f0f921"
             ]
            ],
            "type": "contour"
           }
          ],
          "contourcarpet": [
           {
            "colorbar": {
             "outlinewidth": 0,
             "ticks": ""
            },
            "type": "contourcarpet"
           }
          ],
          "heatmap": [
           {
            "colorbar": {
             "outlinewidth": 0,
             "ticks": ""
            },
            "colorscale": [
             [
              0,
              "#0d0887"
             ],
             [
              0.1111111111111111,
              "#46039f"
             ],
             [
              0.2222222222222222,
              "#7201a8"
             ],
             [
              0.3333333333333333,
              "#9c179e"
             ],
             [
              0.4444444444444444,
              "#bd3786"
             ],
             [
              0.5555555555555556,
              "#d8576b"
             ],
             [
              0.6666666666666666,
              "#ed7953"
             ],
             [
              0.7777777777777778,
              "#fb9f3a"
             ],
             [
              0.8888888888888888,
              "#fdca26"
             ],
             [
              1,
              "#f0f921"
             ]
            ],
            "type": "heatmap"
           }
          ],
          "heatmapgl": [
           {
            "colorbar": {
             "outlinewidth": 0,
             "ticks": ""
            },
            "colorscale": [
             [
              0,
              "#0d0887"
             ],
             [
              0.1111111111111111,
              "#46039f"
             ],
             [
              0.2222222222222222,
              "#7201a8"
             ],
             [
              0.3333333333333333,
              "#9c179e"
             ],
             [
              0.4444444444444444,
              "#bd3786"
             ],
             [
              0.5555555555555556,
              "#d8576b"
             ],
             [
              0.6666666666666666,
              "#ed7953"
             ],
             [
              0.7777777777777778,
              "#fb9f3a"
             ],
             [
              0.8888888888888888,
              "#fdca26"
             ],
             [
              1,
              "#f0f921"
             ]
            ],
            "type": "heatmapgl"
           }
          ],
          "histogram": [
           {
            "marker": {
             "pattern": {
              "fillmode": "overlay",
              "size": 10,
              "solidity": 0.2
             }
            },
            "type": "histogram"
           }
          ],
          "histogram2d": [
           {
            "colorbar": {
             "outlinewidth": 0,
             "ticks": ""
            },
            "colorscale": [
             [
              0,
              "#0d0887"
             ],
             [
              0.1111111111111111,
              "#46039f"
             ],
             [
              0.2222222222222222,
              "#7201a8"
             ],
             [
              0.3333333333333333,
              "#9c179e"
             ],
             [
              0.4444444444444444,
              "#bd3786"
             ],
             [
              0.5555555555555556,
              "#d8576b"
             ],
             [
              0.6666666666666666,
              "#ed7953"
             ],
             [
              0.7777777777777778,
              "#fb9f3a"
             ],
             [
              0.8888888888888888,
              "#fdca26"
             ],
             [
              1,
              "#f0f921"
             ]
            ],
            "type": "histogram2d"
           }
          ],
          "histogram2dcontour": [
           {
            "colorbar": {
             "outlinewidth": 0,
             "ticks": ""
            },
            "colorscale": [
             [
              0,
              "#0d0887"
             ],
             [
              0.1111111111111111,
              "#46039f"
             ],
             [
              0.2222222222222222,
              "#7201a8"
             ],
             [
              0.3333333333333333,
              "#9c179e"
             ],
             [
              0.4444444444444444,
              "#bd3786"
             ],
             [
              0.5555555555555556,
              "#d8576b"
             ],
             [
              0.6666666666666666,
              "#ed7953"
             ],
             [
              0.7777777777777778,
              "#fb9f3a"
             ],
             [
              0.8888888888888888,
              "#fdca26"
             ],
             [
              1,
              "#f0f921"
             ]
            ],
            "type": "histogram2dcontour"
           }
          ],
          "mesh3d": [
           {
            "colorbar": {
             "outlinewidth": 0,
             "ticks": ""
            },
            "type": "mesh3d"
           }
          ],
          "parcoords": [
           {
            "line": {
             "colorbar": {
              "outlinewidth": 0,
              "ticks": ""
             }
            },
            "type": "parcoords"
           }
          ],
          "pie": [
           {
            "automargin": true,
            "type": "pie"
           }
          ],
          "scatter": [
           {
            "fillpattern": {
             "fillmode": "overlay",
             "size": 10,
             "solidity": 0.2
            },
            "type": "scatter"
           }
          ],
          "scatter3d": [
           {
            "line": {
             "colorbar": {
              "outlinewidth": 0,
              "ticks": ""
             }
            },
            "marker": {
             "colorbar": {
              "outlinewidth": 0,
              "ticks": ""
             }
            },
            "type": "scatter3d"
           }
          ],
          "scattercarpet": [
           {
            "marker": {
             "colorbar": {
              "outlinewidth": 0,
              "ticks": ""
             }
            },
            "type": "scattercarpet"
           }
          ],
          "scattergeo": [
           {
            "marker": {
             "colorbar": {
              "outlinewidth": 0,
              "ticks": ""
             }
            },
            "type": "scattergeo"
           }
          ],
          "scattergl": [
           {
            "marker": {
             "colorbar": {
              "outlinewidth": 0,
              "ticks": ""
             }
            },
            "type": "scattergl"
           }
          ],
          "scattermapbox": [
           {
            "marker": {
             "colorbar": {
              "outlinewidth": 0,
              "ticks": ""
             }
            },
            "type": "scattermapbox"
           }
          ],
          "scatterpolar": [
           {
            "marker": {
             "colorbar": {
              "outlinewidth": 0,
              "ticks": ""
             }
            },
            "type": "scatterpolar"
           }
          ],
          "scatterpolargl": [
           {
            "marker": {
             "colorbar": {
              "outlinewidth": 0,
              "ticks": ""
             }
            },
            "type": "scatterpolargl"
           }
          ],
          "scatterternary": [
           {
            "marker": {
             "colorbar": {
              "outlinewidth": 0,
              "ticks": ""
             }
            },
            "type": "scatterternary"
           }
          ],
          "surface": [
           {
            "colorbar": {
             "outlinewidth": 0,
             "ticks": ""
            },
            "colorscale": [
             [
              0,
              "#0d0887"
             ],
             [
              0.1111111111111111,
              "#46039f"
             ],
             [
              0.2222222222222222,
              "#7201a8"
             ],
             [
              0.3333333333333333,
              "#9c179e"
             ],
             [
              0.4444444444444444,
              "#bd3786"
             ],
             [
              0.5555555555555556,
              "#d8576b"
             ],
             [
              0.6666666666666666,
              "#ed7953"
             ],
             [
              0.7777777777777778,
              "#fb9f3a"
             ],
             [
              0.8888888888888888,
              "#fdca26"
             ],
             [
              1,
              "#f0f921"
             ]
            ],
            "type": "surface"
           }
          ],
          "table": [
           {
            "cells": {
             "fill": {
              "color": "#EBF0F8"
             },
             "line": {
              "color": "white"
             }
            },
            "header": {
             "fill": {
              "color": "#C8D4E3"
             },
             "line": {
              "color": "white"
             }
            },
            "type": "table"
           }
          ]
         },
         "layout": {
          "annotationdefaults": {
           "arrowcolor": "#2a3f5f",
           "arrowhead": 0,
           "arrowwidth": 1
          },
          "autotypenumbers": "strict",
          "coloraxis": {
           "colorbar": {
            "outlinewidth": 0,
            "ticks": ""
           }
          },
          "colorscale": {
           "diverging": [
            [
             0,
             "#8e0152"
            ],
            [
             0.1,
             "#c51b7d"
            ],
            [
             0.2,
             "#de77ae"
            ],
            [
             0.3,
             "#f1b6da"
            ],
            [
             0.4,
             "#fde0ef"
            ],
            [
             0.5,
             "#f7f7f7"
            ],
            [
             0.6,
             "#e6f5d0"
            ],
            [
             0.7,
             "#b8e186"
            ],
            [
             0.8,
             "#7fbc41"
            ],
            [
             0.9,
             "#4d9221"
            ],
            [
             1,
             "#276419"
            ]
           ],
           "sequential": [
            [
             0,
             "#0d0887"
            ],
            [
             0.1111111111111111,
             "#46039f"
            ],
            [
             0.2222222222222222,
             "#7201a8"
            ],
            [
             0.3333333333333333,
             "#9c179e"
            ],
            [
             0.4444444444444444,
             "#bd3786"
            ],
            [
             0.5555555555555556,
             "#d8576b"
            ],
            [
             0.6666666666666666,
             "#ed7953"
            ],
            [
             0.7777777777777778,
             "#fb9f3a"
            ],
            [
             0.8888888888888888,
             "#fdca26"
            ],
            [
             1,
             "#f0f921"
            ]
           ],
           "sequentialminus": [
            [
             0,
             "#0d0887"
            ],
            [
             0.1111111111111111,
             "#46039f"
            ],
            [
             0.2222222222222222,
             "#7201a8"
            ],
            [
             0.3333333333333333,
             "#9c179e"
            ],
            [
             0.4444444444444444,
             "#bd3786"
            ],
            [
             0.5555555555555556,
             "#d8576b"
            ],
            [
             0.6666666666666666,
             "#ed7953"
            ],
            [
             0.7777777777777778,
             "#fb9f3a"
            ],
            [
             0.8888888888888888,
             "#fdca26"
            ],
            [
             1,
             "#f0f921"
            ]
           ]
          },
          "colorway": [
           "#636efa",
           "#EF553B",
           "#00cc96",
           "#ab63fa",
           "#FFA15A",
           "#19d3f3",
           "#FF6692",
           "#B6E880",
           "#FF97FF",
           "#FECB52"
          ],
          "font": {
           "color": "#2a3f5f"
          },
          "geo": {
           "bgcolor": "white",
           "lakecolor": "white",
           "landcolor": "#E5ECF6",
           "showlakes": true,
           "showland": true,
           "subunitcolor": "white"
          },
          "hoverlabel": {
           "align": "left"
          },
          "hovermode": "closest",
          "mapbox": {
           "style": "light"
          },
          "paper_bgcolor": "white",
          "plot_bgcolor": "#E5ECF6",
          "polar": {
           "angularaxis": {
            "gridcolor": "white",
            "linecolor": "white",
            "ticks": ""
           },
           "bgcolor": "#E5ECF6",
           "radialaxis": {
            "gridcolor": "white",
            "linecolor": "white",
            "ticks": ""
           }
          },
          "scene": {
           "xaxis": {
            "backgroundcolor": "#E5ECF6",
            "gridcolor": "white",
            "gridwidth": 2,
            "linecolor": "white",
            "showbackground": true,
            "ticks": "",
            "zerolinecolor": "white"
           },
           "yaxis": {
            "backgroundcolor": "#E5ECF6",
            "gridcolor": "white",
            "gridwidth": 2,
            "linecolor": "white",
            "showbackground": true,
            "ticks": "",
            "zerolinecolor": "white"
           },
           "zaxis": {
            "backgroundcolor": "#E5ECF6",
            "gridcolor": "white",
            "gridwidth": 2,
            "linecolor": "white",
            "showbackground": true,
            "ticks": "",
            "zerolinecolor": "white"
           }
          },
          "shapedefaults": {
           "line": {
            "color": "#2a3f5f"
           }
          },
          "ternary": {
           "aaxis": {
            "gridcolor": "white",
            "linecolor": "white",
            "ticks": ""
           },
           "baxis": {
            "gridcolor": "white",
            "linecolor": "white",
            "ticks": ""
           },
           "bgcolor": "#E5ECF6",
           "caxis": {
            "gridcolor": "white",
            "linecolor": "white",
            "ticks": ""
           }
          },
          "title": {
           "x": 0.05
          },
          "xaxis": {
           "automargin": true,
           "gridcolor": "white",
           "linecolor": "white",
           "ticks": "",
           "title": {
            "standoff": 15
           },
           "zerolinecolor": "white",
           "zerolinewidth": 2
          },
          "yaxis": {
           "automargin": true,
           "gridcolor": "white",
           "linecolor": "white",
           "ticks": "",
           "title": {
            "standoff": 15
           },
           "zerolinecolor": "white",
           "zerolinewidth": 2
          }
         }
        }
       }
      },
      "image/png": "[encoded data removed]",
      "text/html": [
       "<div>                            <div id=\"96f9644c-4c5b-488b-81c1-e919385387ac\" class=\"plotly-graph-div\" style=\"height:525px; width:100%;\"></div>            <script type=\"text/javascript\">                require([\"plotly\"], function(Plotly) {                    window.PLOTLYENV=window.PLOTLYENV || {};                                    if (document.getElementById(\"96f9644c-4c5b-488b-81c1-e919385387ac\")) {                    Plotly.newPlot(                        \"96f9644c-4c5b-488b-81c1-e919385387ac\",                        [{\"hovertemplate\":\"title=attention\\u003cbr\\u003ePC1=%{x}\\u003cbr\\u003ePC2=%{y}\\u003cbr\\u003ePC3=%{z}\\u003cbr\\u003etext_lenght=%{marker.size}\\u003cextra\\u003e\\u003c\\u002fextra\\u003e\",\"legendgroup\":\"attention\",\"marker\":{\"color\":\"#636efa\",\"size\":[2853],\"sizemode\":\"area\",\"sizeref\":13.6575,\"symbol\":\"circle\"},\"mode\":\"markers\",\"name\":\"attention\",\"scene\":\"scene\",\"showlegend\":true,\"x\":[-0.40651791774907026],\"y\":[0.10527401110289009],\"z\":[-0.06442505407946322],\"type\":\"scatter3d\"},{\"hovertemplate\":\"title=crispr-cas9\\u003cbr\\u003ePC1=%{x}\\u003cbr\\u003ePC2=%{y}\\u003cbr\\u003ePC3=%{z}\\u003cbr\\u003etext_lenght=%{marker.size}\\u003cextra\\u003e\\u003c\\u002fextra\\u003e\",\"legendgroup\":\"crispr-cas9\",\"marker\":{\"color\":\"#EF553B\",\"size\":[5463],\"sizemode\":\"area\",\"sizeref\":13.6575,\"symbol\":\"circle\"},\"mode\":\"markers\",\"name\":\"crispr-cas9\",\"scene\":\"scene\",\"showlegend\":true,\"x\":[0.6119461639042708],\"y\":[0.7228578402705715],\"z\":[0.07187555988795402],\"type\":\"scatter3d\"},{\"hovertemplate\":\"title=mamba\\u003cbr\\u003ePC1=%{x}\\u003cbr\\u003ePC2=%{y}\\u003cbr\\u003ePC3=%{z}\\u003cbr\\u003etext_lenght=%{marker.size}\\u003cextra\\u003e\\u003c\\u002fextra\\u003e\",\"legendgroup\":\"mamba\",\"marker\":{\"color\":\"#00cc96\",\"size\":[1944],\"sizemode\":\"area\",\"sizeref\":13.6575,\"symbol\":\"circle\"},\"mode\":\"markers\",\"name\":\"mamba\",\"scene\":\"scene\",\"showlegend\":true,\"x\":[-0.4427917095936466],\"y\":[0.20175421320472672],\"z\":[0.2355812100354239],\"type\":\"scatter3d\"},{\"hovertemplate\":\"title=pca\\u003cbr\\u003ePC1=%{x}\\u003cbr\\u003ePC2=%{y}\\u003cbr\\u003ePC3=%{z}\\u003cbr\\u003etext_lenght=%{marker.size}\\u003cextra\\u003e\\u003c\\u002fextra\\u003e\",\"legendgroup\":\"pca\",\"marker\":{\"color\":\"#ab63fa\",\"size\":[5020],\"sizemode\":\"area\",\"sizeref\":13.6575,\"symbol\":\"circle\"},\"mode\":\"markers\",\"name\":\"pca\",\"scene\":\"scene\",\"showlegend\":true,\"x\":[0.49825340640239335],\"y\":[-0.40482796501489776],\"z\":[-0.47683357234720675],\"type\":\"scatter3d\"},{\"hovertemplate\":\"title=rnn\\u003cbr\\u003ePC1=%{x}\\u003cbr\\u003ePC2=%{y}\\u003cbr\\u003ePC3=%{z}\\u003cbr\\u003etext_lenght=%{marker.size}\\u003cextra\\u003e\\u003c\\u002fextra\\u003e\",\"legendgroup\":\"rnn\",\"marker\":{\"color\":\"#FFA15A\",\"size\":[4022],\"sizemode\":\"area\",\"sizeref\":13.6575,\"symbol\":\"circle\"},\"mode\":\"markers\",\"name\":\"rnn\",\"scene\":\"scene\",\"showlegend\":true,\"x\":[-0.314759842797617],\"y\":[-0.07776076443890353],\"z\":[-0.0982278719388497],\"type\":\"scatter3d\"},{\"hovertemplate\":\"title=self\\u003cbr\\u003ePC1=%{x}\\u003cbr\\u003ePC2=%{y}\\u003cbr\\u003ePC3=%{z}\\u003cbr\\u003etext_lenght=%{marker.size}\\u003cextra\\u003e\\u003c\\u002fextra\\u003e\",\"legendgroup\":\"self\",\"marker\":{\"color\":\"#19d3f3\",\"size\":[3695],\"sizemode\":\"area\",\"sizeref\":13.6575,\"symbol\":\"circle\"},\"mode\":\"markers\",\"name\":\"self\",\"scene\":\"scene\",\"showlegend\":true,\"x\":[-0.2332387990546062],\"y\":[-0.04640274977900101],\"z\":[-0.27957592605256365],\"type\":\"scatter3d\"},{\"hovertemplate\":\"title=xnet\\u003cbr\\u003ePC1=%{x}\\u003cbr\\u003ePC2=%{y}\\u003cbr\\u003ePC3=%{z}\\u003cbr\\u003etext_lenght=%{marker.size}\\u003cextra\\u003e\\u003c\\u002fextra\\u003e\",\"legendgroup\":\"xnet\",\"marker\":{\"color\":\"#FF6692\",\"size\":[3811],\"sizemode\":\"area\",\"sizeref\":13.6575,\"symbol\":\"circle\"},\"mode\":\"markers\",\"name\":\"xnet\",\"scene\":\"scene\",\"showlegend\":true,\"x\":[0.28710869888827617],\"y\":[-0.500894585345386],\"z\":[0.6116056544947048],\"type\":\"scatter3d\"}],                        {\"template\":{\"data\":{\"histogram2dcontour\":[{\"type\":\"histogram2dcontour\",\"colorbar\":{\"outlinewidth\":0,\"ticks\":\"\"},\"colorscale\":[[0.0,\"#0d0887\"],[0.1111111111111111,\"#46039f\"],[0.2222222222222222,\"#7201a8\"],[0.3333333333333333,\"#9c179e\"],[0.4444444444444444,\"#bd3786\"],[0.5555555555555556,\"#d8576b\"],[0.6666666666666666,\"#ed7953\"],[0.7777777777777778,\"#fb9f3a\"],[0.8888888888888888,\"#fdca26\"],[1.0,\"#f0f921\"]]}],\"choropleth\":[{\"type\":\"choropleth\",\"colorbar\":{\"outlinewidth\":0,\"ticks\":\"\"}}],\"histogram2d\":[{\"type\":\"histogram2d\",\"colorbar\":{\"outlinewidth\":0,\"ticks\":\"\"},\"colorscale\":[[0.0,\"#0d0887\"],[0.1111111111111111,\"#46039f\"],[0.2222222222222222,\"#7201a8\"],[0.3333333333333333,\"#9c179e\"],[0.4444444444444444,\"#bd3786\"],[0.5555555555555556,\"#d8576b\"],[0.6666666666666666,\"#ed7953\"],[0.7777777777777778,\"#fb9f3a\"],[0.8888888888888888,\"#fdca26\"],[1.0,\"#f0f921\"]]}],\"heatmap\":[{\"type\":\"heatmap\",\"colorbar\":{\"outlinewidth\":0,\"ticks\":\"\"},\"colorscale\":[[0.0,\"#0d0887\"],[0.1111111111111111,\"#46039f\"],[0.2222222222222222,\"#7201a8\"],[0.3333333333333333,\"#9c179e\"],[0.4444444444444444,\"#bd3786\"],[0.5555555555555556,\"#d8576b\"],[0.6666666666666666,\"#ed7953\"],[0.7777777777777778,\"#fb9f3a\"],[0.8888888888888888,\"#fdca26\"],[1.0,\"#f0f921\"]]}],\"heatmapgl\":[{\"type\":\"heatmapgl\",\"colorbar\":{\"outlinewidth\":0,\"ticks\":\"\"},\"colorscale\":[[0.0,\"#0d0887\"],[0.1111111111111111,\"#46039f\"],[0.2222222222222222,\"#7201a8\"],[0.3333333333333333,\"#9c179e\"],[0.4444444444444444,\"#bd3786\"],[0.5555555555555556,\"#d8576b\"],[0.6666666666666666,\"#ed7953\"],[0.7777777777777778,\"#fb9f3a\"],[0.8888888888888888,\"#fdca26\"],[1.0,\"#f0f921\"]]}],\"contourcarpet\":[{\"type\":\"contourcarpet\",\"colorbar\":{\"outlinewidth\":0,\"ticks\":\"\"}}],\"contour\":[{\"type\":\"contour\",\"colorbar\":{\"outlinewidth\":0,\"ticks\":\"\"},\"colorscale\":[[0.0,\"#0d0887\"],[0.1111111111111111,\"#46039f\"],[0.2222222222222222,\"#7201a8\"],[0.3333333333333333,\"#9c179e\"],[0.4444444444444444,\"#bd3786\"],[0.5555555555555556,\"#d8576b\"],[0.6666666666666666,\"#ed7953\"],[0.7777777777777778,\"#fb9f3a\"],[0.8888888888888888,\"#fdca26\"],[1.0,\"#f0f921\"]]}],\"surface\":[{\"type\":\"surface\",\"colorbar\":{\"outlinewidth\":0,\"ticks\":\"\"},\"colorscale\":[[0.0,\"#0d0887\"],[0.1111111111111111,\"#46039f\"],[0.2222222222222222,\"#7201a8\"],[0.3333333333333333,\"#9c179e\"],[0.4444444444444444,\"#bd3786\"],[0.5555555555555556,\"#d8576b\"],[0.6666666666666666,\"#ed7953\"],[0.7777777777777778,\"#fb9f3a\"],[0.8888888888888888,\"#fdca26\"],[1.0,\"#f0f921\"]]}],\"mesh3d\":[{\"type\":\"mesh3d\",\"colorbar\":{\"outlinewidth\":0,\"ticks\":\"\"}}],\"scatter\":[{\"fillpattern\":{\"fillmode\":\"overlay\",\"size\":10,\"solidity\":0.2},\"type\":\"scatter\"}],\"parcoords\":[{\"type\":\"parcoords\",\"line\":{\"colorbar\":{\"outlinewidth\":0,\"ticks\":\"\"}}}],\"scatterpolargl\":[{\"type\":\"scatterpolargl\",\"marker\":{\"colorbar\":{\"outlinewidth\":0,\"ticks\":\"\"}}}],\"bar\":[{\"error_x\":{\"color\":\"#2a3f5f\"},\"error_y\":{\"color\":\"#2a3f5f\"},\"marker\":{\"line\":{\"color\":\"#E5ECF6\",\"width\":0.5},\"pattern\":{\"fillmode\":\"overlay\",\"size\":10,\"solidity\":0.2}},\"type\":\"bar\"}],\"scattergeo\":[{\"type\":\"scattergeo\",\"marker\":{\"colorbar\":{\"outlinewidth\":0,\"ticks\":\"\"}}}],\"scatterpolar\":[{\"type\":\"scatterpolar\",\"marker\":{\"colorbar\":{\"outlinewidth\":0,\"ticks\":\"\"}}}],\"histogram\":[{\"marker\":{\"pattern\":{\"fillmode\":\"overlay\",\"size\":10,\"solidity\":0.2}},\"type\":\"histogram\"}],\"scattergl\":[{\"type\":\"scattergl\",\"marker\":{\"colorbar\":{\"outlinewidth\":0,\"ticks\":\"\"}}}],\"scatter3d\":[{\"type\":\"scatter3d\",\"line\":{\"colorbar\":{\"outlinewidth\":0,\"ticks\":\"\"}},\"marker\":{\"colorbar\":{\"outlinewidth\":0,\"ticks\":\"\"}}}],\"scattermapbox\":[{\"type\":\"scattermapbox\",\"marker\":{\"colorbar\":{\"outlinewidth\":0,\"ticks\":\"\"}}}],\"scatterternary\":[{\"type\":\"scatterternary\",\"marker\":{\"colorbar\":{\"outlinewidth\":0,\"ticks\":\"\"}}}],\"scattercarpet\":[{\"type\":\"scattercarpet\",\"marker\":{\"colorbar\":{\"outlinewidth\":0,\"ticks\":\"\"}}}],\"carpet\":[{\"aaxis\":{\"endlinecolor\":\"#2a3f5f\",\"gridcolor\":\"white\",\"linecolor\":\"white\",\"minorgridcolor\":\"white\",\"startlinecolor\":\"#2a3f5f\"},\"baxis\":{\"endlinecolor\":\"#2a3f5f\",\"gridcolor\":\"white\",\"linecolor\":\"white\",\"minorgridcolor\":\"white\",\"startlinecolor\":\"#2a3f5f\"},\"type\":\"carpet\"}],\"table\":[{\"cells\":{\"fill\":{\"color\":\"#EBF0F8\"},\"line\":{\"color\":\"white\"}},\"header\":{\"fill\":{\"color\":\"#C8D4E3\"},\"line\":{\"color\":\"white\"}},\"type\":\"table\"}],\"barpolar\":[{\"marker\":{\"line\":{\"color\":\"#E5ECF6\",\"width\":0.5},\"pattern\":{\"fillmode\":\"overlay\",\"size\":10,\"solidity\":0.2}},\"type\":\"barpolar\"}],\"pie\":[{\"automargin\":true,\"type\":\"pie\"}]},\"layout\":{\"autotypenumbers\":\"strict\",\"colorway\":[\"#636efa\",\"#EF553B\",\"#00cc96\",\"#ab63fa\",\"#FFA15A\",\"#19d3f3\",\"#FF6692\",\"#B6E880\",\"#FF97FF\",\"#FECB52\"],\"font\":{\"color\":\"#2a3f5f\"},\"hovermode\":\"closest\",\"hoverlabel\":{\"align\":\"left\"},\"paper_bgcolor\":\"white\",\"plot_bgcolor\":\"#E5ECF6\",\"polar\":{\"bgcolor\":\"#E5ECF6\",\"angularaxis\":{\"gridcolor\":\"white\",\"linecolor\":\"white\",\"ticks\":\"\"},\"radialaxis\":{\"gridcolor\":\"white\",\"linecolor\":\"white\",\"ticks\":\"\"}},\"ternary\":{\"bgcolor\":\"#E5ECF6\",\"aaxis\":{\"gridcolor\":\"white\",\"linecolor\":\"white\",\"ticks\":\"\"},\"baxis\":{\"gridcolor\":\"white\",\"linecolor\":\"white\",\"ticks\":\"\"},\"caxis\":{\"gridcolor\":\"white\",\"linecolor\":\"white\",\"ticks\":\"\"}},\"coloraxis\":{\"colorbar\":{\"outlinewidth\":0,\"ticks\":\"\"}},\"colorscale\":{\"sequential\":[[0.0,\"#0d0887\"],[0.1111111111111111,\"#46039f\"],[0.2222222222222222,\"#7201a8\"],[0.3333333333333333,\"#9c179e\"],[0.4444444444444444,\"#bd3786\"],[0.5555555555555556,\"#d8576b\"],[0.6666666666666666,\"#ed7953\"],[0.7777777777777778,\"#fb9f3a\"],[0.8888888888888888,\"#fdca26\"],[1.0,\"#f0f921\"]],\"sequentialminus\":[[0.0,\"#0d0887\"],[0.1111111111111111,\"#46039f\"],[0.2222222222222222,\"#7201a8\"],[0.3333333333333333,\"#9c179e\"],[0.4444444444444444,\"#bd3786\"],[0.5555555555555556,\"#d8576b\"],[0.6666666666666666,\"#ed7953\"],[0.7777777777777778,\"#fb9f3a\"],[0.8888888888888888,\"#fdca26\"],[1.0,\"#f0f921\"]],\"diverging\":[[0,\"#8e0152\"],[0.1,\"#c51b7d\"],[0.2,\"#de77ae\"],[0.3,\"#f1b6da\"],[0.4,\"#fde0ef\"],[0.5,\"#f7f7f7\"],[0.6,\"#e6f5d0\"],[0.7,\"#b8e186\"],[0.8,\"#7fbc41\"],[0.9,\"#4d9221\"],[1,\"#276419\"]]},\"xaxis\":{\"gridcolor\":\"white\",\"linecolor\":\"white\",\"ticks\":\"\",\"title\":{\"standoff\":15},\"zerolinecolor\":\"white\",\"automargin\":true,\"zerolinewidth\":2},\"yaxis\":{\"gridcolor\":\"white\",\"linecolor\":\"white\",\"ticks\":\"\",\"title\":{\"standoff\":15},\"zerolinecolor\":\"white\",\"automargin\":true,\"zerolinewidth\":2},\"scene\":{\"xaxis\":{\"backgroundcolor\":\"#E5ECF6\",\"gridcolor\":\"white\",\"linecolor\":\"white\",\"showbackground\":true,\"ticks\":\"\",\"zerolinecolor\":\"white\",\"gridwidth\":2},\"yaxis\":{\"backgroundcolor\":\"#E5ECF6\",\"gridcolor\":\"white\",\"linecolor\":\"white\",\"showbackground\":true,\"ticks\":\"\",\"zerolinecolor\":\"white\",\"gridwidth\":2},\"zaxis\":{\"backgroundcolor\":\"#E5ECF6\",\"gridcolor\":\"white\",\"linecolor\":\"white\",\"showbackground\":true,\"ticks\":\"\",\"zerolinecolor\":\"white\",\"gridwidth\":2}},\"shapedefaults\":{\"line\":{\"color\":\"#2a3f5f\"}},\"annotationdefaults\":{\"arrowcolor\":\"#2a3f5f\",\"arrowhead\":0,\"arrowwidth\":1},\"geo\":{\"bgcolor\":\"white\",\"landcolor\":\"#E5ECF6\",\"subunitcolor\":\"white\",\"showland\":true,\"showlakes\":true,\"lakecolor\":\"white\"},\"title\":{\"x\":0.05},\"mapbox\":{\"style\":\"light\"}}},\"scene\":{\"domain\":{\"x\":[0.0,1.0],\"y\":[0.0,1.0]},\"xaxis\":{\"title\":{\"text\":\"PC1\"}},\"yaxis\":{\"title\":{\"text\":\"PC2\"}},\"zaxis\":{\"title\":{\"text\":\"PC3\"}}},\"legend\":{\"title\":{\"text\":\"title\"},\"tracegroupgap\":0,\"itemsizing\":\"constant\"},\"margin\":{\"t\":0,\"l\":0,\"r\":0,\"b\":0}},                        {\"responsive\": true}                    ).then(function(){\n",
       "                            \n",
       "var gd = document.getElementById('96f9644c-4c5b-488b-81c1-e919385387ac');\n",
       "var x = new MutationObserver(function (mutations, observer) {{\n",
       "        var display = window.getComputedStyle(gd).display;\n",
       "        if (!display || display === 'none') {{\n",
       "            console.log([gd, 'removed!']);\n",
       "            Plotly.purge(gd);\n",
       "            observer.disconnect();\n",
       "        }}\n",
       "}});\n",
       "\n",
       "// Listen for the removal of the full notebook cells\n",
       "var notebookContainer = gd.closest('#notebook-container');\n",
       "if (notebookContainer) {{\n",
       "    x.observe(notebookContainer, {childList: true});\n",
       "}}\n",
       "\n",
       "// Listen for the clearing of the current output cell\n",
       "var outputEl = gd.closest('.output');\n",
       "if (outputEl) {{\n",
       "    x.observe(outputEl, {childList: true});\n",
       "}}\n",
       "\n",
       "                        })                };                });            </script>        </div>"
      ]
     },
     "metadata": {},
     "output_type": "display_data"
    }
   ],
   "source": [
    "import plotly.express as px\n",
    "\n",
    "%matplotlib widget\n",
    "%matplotlib inline\n",
    "\n",
    "# Configure the trace.\n",
    "fig = px.scatter_3d(new_pca_df,\n",
    "    x='PC1',  # <-- Put your data instead\n",
    "    y='PC2',  # <-- Put your data instead\n",
    "    z='PC3',  # <-- Put your data instead\n",
    "    size='text_lenght',\n",
    "    color='title'\n",
    ")\n",
    "\n",
    "fig.update_layout(margin=dict(l=0, r=0, b=0, t=0))\n",
    "\n",
    "fig.show()"
   ]
  },
  {
   "cell_type": "code",
   "execution_count": 51,
   "id": "53426637",
   "metadata": {},
   "outputs": [],
   "source": [
    "import numpy as np"
   ]
  },
  {
   "cell_type": "code",
   "execution_count": 52,
   "id": "684d4f92",
   "metadata": {},
   "outputs": [
    {
     "name": "stderr",
     "output_type": "stream",
     "text": [
      "C:\\Users\\crist\\AppData\\Local\\Programs\\Python\\Python310\\lib\\site-packages\\huggingface_hub\\file_download.py:1132: FutureWarning:\n",
      "\n",
      "`resume_download` is deprecated and will be removed in version 1.0.0. Downloads always resume when possible. If you want to force a new download, use `force_download=True`.\n",
      "\n"
     ]
    }
   ],
   "source": [
    "# -> Semantic Search\n",
    "\n",
    "search_string = \"Deep Reinforcement learning\"\n",
    "\n",
    "paraphrase_vector = embed_text(search_string)"
   ]
  },
  {
   "cell_type": "code",
   "execution_count": 53,
   "id": "ff8ba579",
   "metadata": {},
   "outputs": [],
   "source": [
    "import pandas as pd\n",
    "import numpy as np\n",
    "\n",
    "# Assuming pdf_df is your original DataFrame and it's already loaded\n",
    "pdf_df_copy = pdf_df.copy()\n",
    "\n",
    "# Create a new row with appropriate data types\n",
    "new_row = pd.DataFrame({\n",
    "    'text_id': [0],\n",
    "    'title': ['Our Search'],\n",
    "    'text': [search_string],\n",
    "    'text_vector': [np.array(paraphrase_vector)]  # Ensure this is a NumPy array\n",
    "})\n",
    "\n",
    "# Append the new row using concat\n",
    "pdf_df_copy = pd.concat([pdf_df_copy, new_row], ignore_index=True)\n",
    "\n",
    "# Calculate distances\n",
    "def calculate_distance(x, base_vector):\n",
    "    # Ensure x is a NumPy array\n",
    "    if isinstance(x, list):\n",
    "        x = np.array(x)\n",
    "    elif isinstance(x, str):\n",
    "        x = np.array(eval(x))  # Use eval if stored as string representation of list/array\n",
    "    return np.linalg.norm(x - base_vector)\n",
    "\n",
    "# Apply function to calculate distances\n",
    "base_vector = np.array(paraphrase_vector)  # Ensure this is a NumPy array\n",
    "pdf_df_copy['distance'] = pdf_df_copy['text_vector'].apply(lambda x: calculate_distance(x, base_vector))\n",
    "\n",
    "# Sort DataFrame by 'distance'\n",
    "pdf_df_copy = pdf_df_copy.sort_values(by='distance')\n"
   ]
  },
  {
   "cell_type": "code",
   "execution_count": 54,
   "id": "c90d1b9d",
   "metadata": {},
   "outputs": [
    {
     "data": {
      "text/html": [
       "<div>\n",
       "<style scoped>\n",
       "    .dataframe tbody tr th:only-of-type {\n",
       "        vertical-align: middle;\n",
       "    }\n",
       "\n",
       "    .dataframe tbody tr th {\n",
       "        vertical-align: top;\n",
       "    }\n",
       "\n",
       "    .dataframe thead th {\n",
       "        text-align: right;\n",
       "    }\n",
       "</style>\n",
       "<table border=\"1\" class=\"dataframe\">\n",
       "  <thead>\n",
       "    <tr style=\"text-align: right;\">\n",
       "      <th></th>\n",
       "      <th>text_id</th>\n",
       "      <th>title</th>\n",
       "      <th>text</th>\n",
       "      <th>text_vector</th>\n",
       "      <th>distance</th>\n",
       "    </tr>\n",
       "  </thead>\n",
       "  <tbody>\n",
       "    <tr>\n",
       "      <th>7</th>\n",
       "      <td>0</td>\n",
       "      <td>Our Search</td>\n",
       "      <td>Deep Reinforcement learning</td>\n",
       "      <td>[-0.026842538, 0.03865101, -0.018913055, 0.025...</td>\n",
       "      <td>0.000000</td>\n",
       "    </tr>\n",
       "    <tr>\n",
       "      <th>4</th>\n",
       "      <td>2304</td>\n",
       "      <td>rnn</td>\n",
       "      <td>To appear as a part of an upcoming textbook on...</td>\n",
       "      <td>[-0.0037181564, 0.016733125, -0.020747423, 0.0...</td>\n",
       "      <td>1.070841</td>\n",
       "    </tr>\n",
       "    <tr>\n",
       "      <th>0</th>\n",
       "      <td>1706</td>\n",
       "      <td>attention</td>\n",
       "      <td>Provided proper attribution is provided, Googl...</td>\n",
       "      <td>[0.0054992014, 0.037146155, 0.0010611548, 0.02...</td>\n",
       "      <td>1.141667</td>\n",
       "    </tr>\n",
       "    <tr>\n",
       "      <th>2</th>\n",
       "      <td>2401</td>\n",
       "      <td>mamba</td>\n",
       "      <td>MambaByte: Token-free Selective State Space Mo...</td>\n",
       "      <td>[0.05232658, 0.051375307, -0.0006775561, 0.002...</td>\n",
       "      <td>1.179760</td>\n",
       "    </tr>\n",
       "    <tr>\n",
       "      <th>5</th>\n",
       "      <td>attention</td>\n",
       "      <td>self</td>\n",
       "      <td>STORY DIFFUSION : C ONSISTENT SELF-ATTENTION\\n...</td>\n",
       "      <td>[0.011601232, 0.020899585, 0.01922862, 0.02535...</td>\n",
       "      <td>1.205334</td>\n",
       "    </tr>\n",
       "  </tbody>\n",
       "</table>\n",
       "</div>"
      ],
      "text/plain": [
       "     text_id       title                                               text  \\\n",
       "7          0  Our Search                        Deep Reinforcement learning   \n",
       "4       2304         rnn  To appear as a part of an upcoming textbook on...   \n",
       "0       1706   attention  Provided proper attribution is provided, Googl...   \n",
       "2       2401       mamba  MambaByte: Token-free Selective State Space Mo...   \n",
       "5  attention        self  STORY DIFFUSION : C ONSISTENT SELF-ATTENTION\\n...   \n",
       "\n",
       "                                         text_vector  distance  \n",
       "7  [-0.026842538, 0.03865101, -0.018913055, 0.025...  0.000000  \n",
       "4  [-0.0037181564, 0.016733125, -0.020747423, 0.0...  1.070841  \n",
       "0  [0.0054992014, 0.037146155, 0.0010611548, 0.02...  1.141667  \n",
       "2  [0.05232658, 0.051375307, -0.0006775561, 0.002...  1.179760  \n",
       "5  [0.011601232, 0.020899585, 0.01922862, 0.02535...  1.205334  "
      ]
     },
     "execution_count": 54,
     "metadata": {},
     "output_type": "execute_result"
    }
   ],
   "source": [
    "pdf_df_copy.head()"
   ]
  },
  {
   "cell_type": "code",
   "execution_count": 55,
   "id": "42aa8d42",
   "metadata": {},
   "outputs": [],
   "source": [
    "pdf_df_copy = pdf_df_copy.reset_index(drop=True)"
   ]
  },
  {
   "cell_type": "code",
   "execution_count": 56,
   "id": "855886ae",
   "metadata": {},
   "outputs": [
    {
     "data": {
      "text/html": [
       "<div>\n",
       "<style scoped>\n",
       "    .dataframe tbody tr th:only-of-type {\n",
       "        vertical-align: middle;\n",
       "    }\n",
       "\n",
       "    .dataframe tbody tr th {\n",
       "        vertical-align: top;\n",
       "    }\n",
       "\n",
       "    .dataframe thead th {\n",
       "        text-align: right;\n",
       "    }\n",
       "</style>\n",
       "<table border=\"1\" class=\"dataframe\">\n",
       "  <thead>\n",
       "    <tr style=\"text-align: right;\">\n",
       "      <th></th>\n",
       "      <th>text_id</th>\n",
       "      <th>title</th>\n",
       "      <th>text</th>\n",
       "      <th>text_vector</th>\n",
       "      <th>distance</th>\n",
       "    </tr>\n",
       "  </thead>\n",
       "  <tbody>\n",
       "    <tr>\n",
       "      <th>0</th>\n",
       "      <td>0</td>\n",
       "      <td>Our Search</td>\n",
       "      <td>Deep Reinforcement learning</td>\n",
       "      <td>[-0.026842538, 0.03865101, -0.018913055, 0.025...</td>\n",
       "      <td>0.000000</td>\n",
       "    </tr>\n",
       "    <tr>\n",
       "      <th>1</th>\n",
       "      <td>2304</td>\n",
       "      <td>rnn</td>\n",
       "      <td>To appear as a part of an upcoming textbook on...</td>\n",
       "      <td>[-0.0037181564, 0.016733125, -0.020747423, 0.0...</td>\n",
       "      <td>1.070841</td>\n",
       "    </tr>\n",
       "    <tr>\n",
       "      <th>2</th>\n",
       "      <td>1706</td>\n",
       "      <td>attention</td>\n",
       "      <td>Provided proper attribution is provided, Googl...</td>\n",
       "      <td>[0.0054992014, 0.037146155, 0.0010611548, 0.02...</td>\n",
       "      <td>1.141667</td>\n",
       "    </tr>\n",
       "    <tr>\n",
       "      <th>3</th>\n",
       "      <td>2401</td>\n",
       "      <td>mamba</td>\n",
       "      <td>MambaByte: Token-free Selective State Space Mo...</td>\n",
       "      <td>[0.05232658, 0.051375307, -0.0006775561, 0.002...</td>\n",
       "      <td>1.179760</td>\n",
       "    </tr>\n",
       "    <tr>\n",
       "      <th>4</th>\n",
       "      <td>attention</td>\n",
       "      <td>self</td>\n",
       "      <td>STORY DIFFUSION : C ONSISTENT SELF-ATTENTION\\n...</td>\n",
       "      <td>[0.011601232, 0.020899585, 0.01922862, 0.02535...</td>\n",
       "      <td>1.205334</td>\n",
       "    </tr>\n",
       "    <tr>\n",
       "      <th>5</th>\n",
       "      <td>1812</td>\n",
       "      <td>xnet</td>\n",
       "      <td>XNet: A convolutional neural network (CNN)\\nim...</td>\n",
       "      <td>[0.016950995, 0.025170336, -0.017331049, 0.016...</td>\n",
       "      <td>1.250568</td>\n",
       "    </tr>\n",
       "    <tr>\n",
       "      <th>6</th>\n",
       "      <td>1404</td>\n",
       "      <td>pca</td>\n",
       "      <td>A Tutorial on Principal Component Analysis\\nJo...</td>\n",
       "      <td>[-0.043667298, 0.027209371, -0.049346946, 0.02...</td>\n",
       "      <td>1.268179</td>\n",
       "    </tr>\n",
       "    <tr>\n",
       "      <th>7</th>\n",
       "      <td>2103</td>\n",
       "      <td>crispr-cas9</td>\n",
       "      <td>arXiv:2103.10667v2  (q-bio.SC)  4 Oct 2021Sear...</td>\n",
       "      <td>[-0.008727858, -0.10015887, -0.0042581153, 0.0...</td>\n",
       "      <td>1.314120</td>\n",
       "    </tr>\n",
       "  </tbody>\n",
       "</table>\n",
       "</div>"
      ],
      "text/plain": [
       "     text_id        title                                               text  \\\n",
       "0          0   Our Search                        Deep Reinforcement learning   \n",
       "1       2304          rnn  To appear as a part of an upcoming textbook on...   \n",
       "2       1706    attention  Provided proper attribution is provided, Googl...   \n",
       "3       2401        mamba  MambaByte: Token-free Selective State Space Mo...   \n",
       "4  attention         self  STORY DIFFUSION : C ONSISTENT SELF-ATTENTION\\n...   \n",
       "5       1812         xnet  XNet: A convolutional neural network (CNN)\\nim...   \n",
       "6       1404          pca  A Tutorial on Principal Component Analysis\\nJo...   \n",
       "7       2103  crispr-cas9  arXiv:2103.10667v2  (q-bio.SC)  4 Oct 2021Sear...   \n",
       "\n",
       "                                         text_vector  distance  \n",
       "0  [-0.026842538, 0.03865101, -0.018913055, 0.025...  0.000000  \n",
       "1  [-0.0037181564, 0.016733125, -0.020747423, 0.0...  1.070841  \n",
       "2  [0.0054992014, 0.037146155, 0.0010611548, 0.02...  1.141667  \n",
       "3  [0.05232658, 0.051375307, -0.0006775561, 0.002...  1.179760  \n",
       "4  [0.011601232, 0.020899585, 0.01922862, 0.02535...  1.205334  \n",
       "5  [0.016950995, 0.025170336, -0.017331049, 0.016...  1.250568  \n",
       "6  [-0.043667298, 0.027209371, -0.049346946, 0.02...  1.268179  \n",
       "7  [-0.008727858, -0.10015887, -0.0042581153, 0.0...  1.314120  "
      ]
     },
     "execution_count": 56,
     "metadata": {},
     "output_type": "execute_result"
    }
   ],
   "source": [
    "pdf_df_copy"
   ]
  },
  {
   "cell_type": "code",
   "execution_count": 57,
   "id": "e24e5561",
   "metadata": {},
   "outputs": [],
   "source": [
    "# retrieve the embedding vectors from the search results\n",
    "vectors = pdf_df_copy.loc[:, \"text_vector\"].to_list()\n",
    "\n",
    "# apply PCA to reduce the dimensionality of the vectors to 3 dimensions\n",
    "pca = PCA(n_components=3)\n",
    "reduced_vectors = pca.fit_transform(vectors)\n",
    "\n",
    "# create a dataframe with the reduced vectors\n",
    "new_pca_df = pd.DataFrame(reduced_vectors, columns=['PC1', 'PC2', 'PC3'])\n",
    "\n",
    "new_pca_df['text_lenght'] = pdf_df_copy['text'].apply(len)\n",
    "new_pca_df['distance'] = pdf_df_copy['distance']\n",
    "new_pca_df['title'] = pdf_df_copy['title']"
   ]
  },
  {
   "cell_type": "code",
   "execution_count": 58,
   "id": "e78a5c8d",
   "metadata": {},
   "outputs": [],
   "source": [
    "new_pca_df['distance_group'] = pd.cut(new_pca_df['distance'], bins=5, labels=False)"
   ]
  },
  {
   "cell_type": "code",
   "execution_count": 59,
   "id": "29310e32",
   "metadata": {},
   "outputs": [],
   "source": [
    "markers = [\".\" , \",\" , \"o\" , \"v\" , \"^\" , \"<\", \">\"]\n",
    "new_pca_df['marker'] = new_pca_df['distance_group'].apply(lambda x: markers[x])"
   ]
  },
  {
   "cell_type": "code",
   "execution_count": 60,
   "id": "a63dcd66",
   "metadata": {},
   "outputs": [
    {
     "data": {
      "text/html": [
       "<div>\n",
       "<style scoped>\n",
       "    .dataframe tbody tr th:only-of-type {\n",
       "        vertical-align: middle;\n",
       "    }\n",
       "\n",
       "    .dataframe tbody tr th {\n",
       "        vertical-align: top;\n",
       "    }\n",
       "\n",
       "    .dataframe thead th {\n",
       "        text-align: right;\n",
       "    }\n",
       "</style>\n",
       "<table border=\"1\" class=\"dataframe\">\n",
       "  <thead>\n",
       "    <tr style=\"text-align: right;\">\n",
       "      <th></th>\n",
       "      <th>PC1</th>\n",
       "      <th>PC2</th>\n",
       "      <th>PC3</th>\n",
       "      <th>text_lenght</th>\n",
       "      <th>distance</th>\n",
       "      <th>title</th>\n",
       "      <th>distance_group</th>\n",
       "      <th>marker</th>\n",
       "    </tr>\n",
       "  </thead>\n",
       "  <tbody>\n",
       "    <tr>\n",
       "      <th>0</th>\n",
       "      <td>-0.015672</td>\n",
       "      <td>0.021249</td>\n",
       "      <td>0.473040</td>\n",
       "      <td>27</td>\n",
       "      <td>0.000000</td>\n",
       "      <td>Our Search</td>\n",
       "      <td>0</td>\n",
       "      <td>.</td>\n",
       "    </tr>\n",
       "    <tr>\n",
       "      <th>1</th>\n",
       "      <td>-0.313762</td>\n",
       "      <td>-0.078498</td>\n",
       "      <td>-0.030232</td>\n",
       "      <td>4022</td>\n",
       "      <td>1.070841</td>\n",
       "      <td>rnn</td>\n",
       "      <td>4</td>\n",
       "      <td>^</td>\n",
       "    </tr>\n",
       "    <tr>\n",
       "      <th>2</th>\n",
       "      <td>-0.403850</td>\n",
       "      <td>0.101101</td>\n",
       "      <td>-0.149495</td>\n",
       "      <td>2853</td>\n",
       "      <td>1.141667</td>\n",
       "      <td>attention</td>\n",
       "      <td>4</td>\n",
       "      <td>^</td>\n",
       "    </tr>\n",
       "    <tr>\n",
       "      <th>3</th>\n",
       "      <td>-0.440594</td>\n",
       "      <td>0.198536</td>\n",
       "      <td>0.130286</td>\n",
       "      <td>1944</td>\n",
       "      <td>1.179760</td>\n",
       "      <td>mamba</td>\n",
       "      <td>4</td>\n",
       "      <td>^</td>\n",
       "    </tr>\n",
       "    <tr>\n",
       "      <th>4</th>\n",
       "      <td>-0.230071</td>\n",
       "      <td>-0.051622</td>\n",
       "      <td>-0.402651</td>\n",
       "      <td>3695</td>\n",
       "      <td>1.205334</td>\n",
       "      <td>self</td>\n",
       "      <td>4</td>\n",
       "      <td>^</td>\n",
       "    </tr>\n",
       "    <tr>\n",
       "      <th>5</th>\n",
       "      <td>0.289391</td>\n",
       "      <td>-0.503179</td>\n",
       "      <td>0.405725</td>\n",
       "      <td>3811</td>\n",
       "      <td>1.250568</td>\n",
       "      <td>xnet</td>\n",
       "      <td>4</td>\n",
       "      <td>^</td>\n",
       "    </tr>\n",
       "    <tr>\n",
       "      <th>6</th>\n",
       "      <td>0.500871</td>\n",
       "      <td>-0.407939</td>\n",
       "      <td>-0.414382</td>\n",
       "      <td>5020</td>\n",
       "      <td>1.268179</td>\n",
       "      <td>pca</td>\n",
       "      <td>4</td>\n",
       "      <td>^</td>\n",
       "    </tr>\n",
       "    <tr>\n",
       "      <th>7</th>\n",
       "      <td>0.613686</td>\n",
       "      <td>0.720352</td>\n",
       "      <td>-0.012290</td>\n",
       "      <td>5463</td>\n",
       "      <td>1.314120</td>\n",
       "      <td>crispr-cas9</td>\n",
       "      <td>4</td>\n",
       "      <td>^</td>\n",
       "    </tr>\n",
       "  </tbody>\n",
       "</table>\n",
       "</div>"
      ],
      "text/plain": [
       "        PC1       PC2       PC3  text_lenght  distance        title  \\\n",
       "0 -0.015672  0.021249  0.473040           27  0.000000   Our Search   \n",
       "1 -0.313762 -0.078498 -0.030232         4022  1.070841          rnn   \n",
       "2 -0.403850  0.101101 -0.149495         2853  1.141667    attention   \n",
       "3 -0.440594  0.198536  0.130286         1944  1.179760        mamba   \n",
       "4 -0.230071 -0.051622 -0.402651         3695  1.205334         self   \n",
       "5  0.289391 -0.503179  0.405725         3811  1.250568         xnet   \n",
       "6  0.500871 -0.407939 -0.414382         5020  1.268179          pca   \n",
       "7  0.613686  0.720352 -0.012290         5463  1.314120  crispr-cas9   \n",
       "\n",
       "   distance_group marker  \n",
       "0               0      .  \n",
       "1               4      ^  \n",
       "2               4      ^  \n",
       "3               4      ^  \n",
       "4               4      ^  \n",
       "5               4      ^  \n",
       "6               4      ^  \n",
       "7               4      ^  "
      ]
     },
     "execution_count": 60,
     "metadata": {},
     "output_type": "execute_result"
    }
   ],
   "source": [
    "new_pca_df"
   ]
  },
  {
   "cell_type": "code",
   "execution_count": 61,
   "id": "e7b10057",
   "metadata": {},
   "outputs": [],
   "source": [
    "from sklearn.cluster import KMeans"
   ]
  },
  {
   "cell_type": "code",
   "execution_count": 62,
   "id": "513e7d6d",
   "metadata": {},
   "outputs": [
    {
     "data": {
      "application/vnd.plotly.v1+json": {
       "config": {
        "plotlyServerURL": "https://plot.ly"
       },
       "data": [
        {
         "hovertemplate": "<b>%{hovertext}</b><br><br>distance_group=%{marker.color}<br>PC1=%{x}<br>PC2=%{y}<br>PC3=%{z}<extra></extra>",
         "hovertext": [
          "Our Search"
         ],
         "legendgroup": "0",
         "marker": {
          "color": [
           0
          ],
          "coloraxis": "coloraxis",
          "symbol": "circle"
         },
         "mode": "markers",
         "name": "0",
         "scene": "scene",
         "showlegend": true,
         "type": "scatter3d",
         "x": [
          -0.015671770992827905
         ],
         "y": [
          0.021249111744868758
         ],
         "z": [
          0.4730397466847081
         ]
        },
        {
         "hovertemplate": "<b>%{hovertext}</b><br><br>distance_group=%{marker.color}<br>PC1=%{x}<br>PC2=%{y}<br>PC3=%{z}<extra></extra>",
         "hovertext": [
          "rnn",
          "attention",
          "mamba",
          "self",
          "xnet",
          "pca",
          "crispr-cas9"
         ],
         "legendgroup": "4",
         "marker": {
          "color": [
           4,
           4,
           4,
           4,
           4,
           4,
           4
          ],
          "coloraxis": "coloraxis",
          "symbol": "diamond"
         },
         "mode": "markers",
         "name": "4",
         "scene": "scene",
         "showlegend": true,
         "type": "scatter3d",
         "x": [
          -0.3137623686998772,
          -0.40385000995743287,
          -0.4405941498961997,
          -0.23007069941956074,
          0.2893913188802175,
          0.5008714823438786,
          0.6136861977418021
         ],
         "y": [
          -0.0784980510181524,
          0.10110067548886453,
          0.1985356767068252,
          -0.051621859256257646,
          -0.5031793201285212,
          -0.4079385963868296,
          0.7203523628492021
         ],
         "z": [
          -0.030232104930356732,
          -0.14949530127481053,
          0.13028606613101376,
          -0.4026513571462697,
          0.40572488401230117,
          -0.41438221152696675,
          -0.012289721949619295
         ]
        }
       ],
       "layout": {
        "autosize": true,
        "coloraxis": {
         "colorbar": {
          "title": {
           "text": "distance_group"
          }
         },
         "colorscale": [
          [
           0,
           "#440154"
          ],
          [
           0.1111111111111111,
           "#482878"
          ],
          [
           0.2222222222222222,
           "#3e4989"
          ],
          [
           0.3333333333333333,
           "#31688e"
          ],
          [
           0.4444444444444444,
           "#26828e"
          ],
          [
           0.5555555555555556,
           "#1f9e89"
          ],
          [
           0.6666666666666666,
           "#35b779"
          ],
          [
           0.7777777777777778,
           "#6ece58"
          ],
          [
           0.8888888888888888,
           "#b5de2b"
          ],
          [
           1,
           "#fde725"
          ]
         ]
        },
        "legend": {
         "title": {
          "text": "distance_group"
         },
         "tracegroupgap": 0
        },
        "margin": {
         "b": 0,
         "l": 0,
         "r": 0,
         "t": 0
        },
        "scene": {
         "aspectmode": "auto",
         "aspectratio": {
          "x": 1.0078338571534486,
          "y": 1.1696287976604614,
          "z": 0.8483264409422828
         },
         "camera": {
          "center": {
           "x": 0,
           "y": 0,
           "z": 0
          },
          "eye": {
           "x": -0.87419292549526,
           "y": -0.6041592529248171,
           "z": 1.886339928570502
          },
          "projection": {
           "type": "perspective"
          },
          "up": {
           "x": 0,
           "y": 0,
           "z": 1
          }
         },
         "domain": {
          "x": [
           0,
           1
          ],
          "y": [
           0,
           1
          ]
         },
         "xaxis": {
          "title": {
           "text": "PC1"
          },
          "type": "linear"
         },
         "yaxis": {
          "title": {
           "text": "PC2"
          },
          "type": "linear"
         },
         "zaxis": {
          "title": {
           "text": "PC3"
          },
          "type": "linear"
         }
        },
        "template": {
         "data": {
          "bar": [
           {
            "error_x": {
             "color": "#2a3f5f"
            },
            "error_y": {
             "color": "#2a3f5f"
            },
            "marker": {
             "line": {
              "color": "#E5ECF6",
              "width": 0.5
             },
             "pattern": {
              "fillmode": "overlay",
              "size": 10,
              "solidity": 0.2
             }
            },
            "type": "bar"
           }
          ],
          "barpolar": [
           {
            "marker": {
             "line": {
              "color": "#E5ECF6",
              "width": 0.5
             },
             "pattern": {
              "fillmode": "overlay",
              "size": 10,
              "solidity": 0.2
             }
            },
            "type": "barpolar"
           }
          ],
          "carpet": [
           {
            "aaxis": {
             "endlinecolor": "#2a3f5f",
             "gridcolor": "white",
             "linecolor": "white",
             "minorgridcolor": "white",
             "startlinecolor": "#2a3f5f"
            },
            "baxis": {
             "endlinecolor": "#2a3f5f",
             "gridcolor": "white",
             "linecolor": "white",
             "minorgridcolor": "white",
             "startlinecolor": "#2a3f5f"
            },
            "type": "carpet"
           }
          ],
          "choropleth": [
           {
            "colorbar": {
             "outlinewidth": 0,
             "ticks": ""
            },
            "type": "choropleth"
           }
          ],
          "contour": [
           {
            "colorbar": {
             "outlinewidth": 0,
             "ticks": ""
            },
            "colorscale": [
             [
              0,
              "#0d0887"
             ],
             [
              0.1111111111111111,
              "#46039f"
             ],
             [
              0.2222222222222222,
              "#7201a8"
             ],
             [
              0.3333333333333333,
              "#9c179e"
             ],
             [
              0.4444444444444444,
              "#bd3786"
             ],
             [
              0.5555555555555556,
              "#d8576b"
             ],
             [
              0.6666666666666666,
              "#ed7953"
             ],
             [
              0.7777777777777778,
              "#fb9f3a"
             ],
             [
              0.8888888888888888,
              "#fdca26"
             ],
             [
              1,
              "#f0f921"
             ]
            ],
            "type": "contour"
           }
          ],
          "contourcarpet": [
           {
            "colorbar": {
             "outlinewidth": 0,
             "ticks": ""
            },
            "type": "contourcarpet"
           }
          ],
          "heatmap": [
           {
            "colorbar": {
             "outlinewidth": 0,
             "ticks": ""
            },
            "colorscale": [
             [
              0,
              "#0d0887"
             ],
             [
              0.1111111111111111,
              "#46039f"
             ],
             [
              0.2222222222222222,
              "#7201a8"
             ],
             [
              0.3333333333333333,
              "#9c179e"
             ],
             [
              0.4444444444444444,
              "#bd3786"
             ],
             [
              0.5555555555555556,
              "#d8576b"
             ],
             [
              0.6666666666666666,
              "#ed7953"
             ],
             [
              0.7777777777777778,
              "#fb9f3a"
             ],
             [
              0.8888888888888888,
              "#fdca26"
             ],
             [
              1,
              "#f0f921"
             ]
            ],
            "type": "heatmap"
           }
          ],
          "heatmapgl": [
           {
            "colorbar": {
             "outlinewidth": 0,
             "ticks": ""
            },
            "colorscale": [
             [
              0,
              "#0d0887"
             ],
             [
              0.1111111111111111,
              "#46039f"
             ],
             [
              0.2222222222222222,
              "#7201a8"
             ],
             [
              0.3333333333333333,
              "#9c179e"
             ],
             [
              0.4444444444444444,
              "#bd3786"
             ],
             [
              0.5555555555555556,
              "#d8576b"
             ],
             [
              0.6666666666666666,
              "#ed7953"
             ],
             [
              0.7777777777777778,
              "#fb9f3a"
             ],
             [
              0.8888888888888888,
              "#fdca26"
             ],
             [
              1,
              "#f0f921"
             ]
            ],
            "type": "heatmapgl"
           }
          ],
          "histogram": [
           {
            "marker": {
             "pattern": {
              "fillmode": "overlay",
              "size": 10,
              "solidity": 0.2
             }
            },
            "type": "histogram"
           }
          ],
          "histogram2d": [
           {
            "colorbar": {
             "outlinewidth": 0,
             "ticks": ""
            },
            "colorscale": [
             [
              0,
              "#0d0887"
             ],
             [
              0.1111111111111111,
              "#46039f"
             ],
             [
              0.2222222222222222,
              "#7201a8"
             ],
             [
              0.3333333333333333,
              "#9c179e"
             ],
             [
              0.4444444444444444,
              "#bd3786"
             ],
             [
              0.5555555555555556,
              "#d8576b"
             ],
             [
              0.6666666666666666,
              "#ed7953"
             ],
             [
              0.7777777777777778,
              "#fb9f3a"
             ],
             [
              0.8888888888888888,
              "#fdca26"
             ],
             [
              1,
              "#f0f921"
             ]
            ],
            "type": "histogram2d"
           }
          ],
          "histogram2dcontour": [
           {
            "colorbar": {
             "outlinewidth": 0,
             "ticks": ""
            },
            "colorscale": [
             [
              0,
              "#0d0887"
             ],
             [
              0.1111111111111111,
              "#46039f"
             ],
             [
              0.2222222222222222,
              "#7201a8"
             ],
             [
              0.3333333333333333,
              "#9c179e"
             ],
             [
              0.4444444444444444,
              "#bd3786"
             ],
             [
              0.5555555555555556,
              "#d8576b"
             ],
             [
              0.6666666666666666,
              "#ed7953"
             ],
             [
              0.7777777777777778,
              "#fb9f3a"
             ],
             [
              0.8888888888888888,
              "#fdca26"
             ],
             [
              1,
              "#f0f921"
             ]
            ],
            "type": "histogram2dcontour"
           }
          ],
          "mesh3d": [
           {
            "colorbar": {
             "outlinewidth": 0,
             "ticks": ""
            },
            "type": "mesh3d"
           }
          ],
          "parcoords": [
           {
            "line": {
             "colorbar": {
              "outlinewidth": 0,
              "ticks": ""
             }
            },
            "type": "parcoords"
           }
          ],
          "pie": [
           {
            "automargin": true,
            "type": "pie"
           }
          ],
          "scatter": [
           {
            "fillpattern": {
             "fillmode": "overlay",
             "size": 10,
             "solidity": 0.2
            },
            "type": "scatter"
           }
          ],
          "scatter3d": [
           {
            "line": {
             "colorbar": {
              "outlinewidth": 0,
              "ticks": ""
             }
            },
            "marker": {
             "colorbar": {
              "outlinewidth": 0,
              "ticks": ""
             }
            },
            "type": "scatter3d"
           }
          ],
          "scattercarpet": [
           {
            "marker": {
             "colorbar": {
              "outlinewidth": 0,
              "ticks": ""
             }
            },
            "type": "scattercarpet"
           }
          ],
          "scattergeo": [
           {
            "marker": {
             "colorbar": {
              "outlinewidth": 0,
              "ticks": ""
             }
            },
            "type": "scattergeo"
           }
          ],
          "scattergl": [
           {
            "marker": {
             "colorbar": {
              "outlinewidth": 0,
              "ticks": ""
             }
            },
            "type": "scattergl"
           }
          ],
          "scattermapbox": [
           {
            "marker": {
             "colorbar": {
              "outlinewidth": 0,
              "ticks": ""
             }
            },
            "type": "scattermapbox"
           }
          ],
          "scatterpolar": [
           {
            "marker": {
             "colorbar": {
              "outlinewidth": 0,
              "ticks": ""
             }
            },
            "type": "scatterpolar"
           }
          ],
          "scatterpolargl": [
           {
            "marker": {
             "colorbar": {
              "outlinewidth": 0,
              "ticks": ""
             }
            },
            "type": "scatterpolargl"
           }
          ],
          "scatterternary": [
           {
            "marker": {
             "colorbar": {
              "outlinewidth": 0,
              "ticks": ""
             }
            },
            "type": "scatterternary"
           }
          ],
          "surface": [
           {
            "colorbar": {
             "outlinewidth": 0,
             "ticks": ""
            },
            "colorscale": [
             [
              0,
              "#0d0887"
             ],
             [
              0.1111111111111111,
              "#46039f"
             ],
             [
              0.2222222222222222,
              "#7201a8"
             ],
             [
              0.3333333333333333,
              "#9c179e"
             ],
             [
              0.4444444444444444,
              "#bd3786"
             ],
             [
              0.5555555555555556,
              "#d8576b"
             ],
             [
              0.6666666666666666,
              "#ed7953"
             ],
             [
              0.7777777777777778,
              "#fb9f3a"
             ],
             [
              0.8888888888888888,
              "#fdca26"
             ],
             [
              1,
              "#f0f921"
             ]
            ],
            "type": "surface"
           }
          ],
          "table": [
           {
            "cells": {
             "fill": {
              "color": "#EBF0F8"
             },
             "line": {
              "color": "white"
             }
            },
            "header": {
             "fill": {
              "color": "#C8D4E3"
             },
             "line": {
              "color": "white"
             }
            },
            "type": "table"
           }
          ]
         },
         "layout": {
          "annotationdefaults": {
           "arrowcolor": "#2a3f5f",
           "arrowhead": 0,
           "arrowwidth": 1
          },
          "autotypenumbers": "strict",
          "coloraxis": {
           "colorbar": {
            "outlinewidth": 0,
            "ticks": ""
           }
          },
          "colorscale": {
           "diverging": [
            [
             0,
             "#8e0152"
            ],
            [
             0.1,
             "#c51b7d"
            ],
            [
             0.2,
             "#de77ae"
            ],
            [
             0.3,
             "#f1b6da"
            ],
            [
             0.4,
             "#fde0ef"
            ],
            [
             0.5,
             "#f7f7f7"
            ],
            [
             0.6,
             "#e6f5d0"
            ],
            [
             0.7,
             "#b8e186"
            ],
            [
             0.8,
             "#7fbc41"
            ],
            [
             0.9,
             "#4d9221"
            ],
            [
             1,
             "#276419"
            ]
           ],
           "sequential": [
            [
             0,
             "#0d0887"
            ],
            [
             0.1111111111111111,
             "#46039f"
            ],
            [
             0.2222222222222222,
             "#7201a8"
            ],
            [
             0.3333333333333333,
             "#9c179e"
            ],
            [
             0.4444444444444444,
             "#bd3786"
            ],
            [
             0.5555555555555556,
             "#d8576b"
            ],
            [
             0.6666666666666666,
             "#ed7953"
            ],
            [
             0.7777777777777778,
             "#fb9f3a"
            ],
            [
             0.8888888888888888,
             "#fdca26"
            ],
            [
             1,
             "#f0f921"
            ]
           ],
           "sequentialminus": [
            [
             0,
             "#0d0887"
            ],
            [
             0.1111111111111111,
             "#46039f"
            ],
            [
             0.2222222222222222,
             "#7201a8"
            ],
            [
             0.3333333333333333,
             "#9c179e"
            ],
            [
             0.4444444444444444,
             "#bd3786"
            ],
            [
             0.5555555555555556,
             "#d8576b"
            ],
            [
             0.6666666666666666,
             "#ed7953"
            ],
            [
             0.7777777777777778,
             "#fb9f3a"
            ],
            [
             0.8888888888888888,
             "#fdca26"
            ],
            [
             1,
             "#f0f921"
            ]
           ]
          },
          "colorway": [
           "#636efa",
           "#EF553B",
           "#00cc96",
           "#ab63fa",
           "#FFA15A",
           "#19d3f3",
           "#FF6692",
           "#B6E880",
           "#FF97FF",
           "#FECB52"
          ],
          "font": {
           "color": "#2a3f5f"
          },
          "geo": {
           "bgcolor": "white",
           "lakecolor": "white",
           "landcolor": "#E5ECF6",
           "showlakes": true,
           "showland": true,
           "subunitcolor": "white"
          },
          "hoverlabel": {
           "align": "left"
          },
          "hovermode": "closest",
          "mapbox": {
           "style": "light"
          },
          "paper_bgcolor": "white",
          "plot_bgcolor": "#E5ECF6",
          "polar": {
           "angularaxis": {
            "gridcolor": "white",
            "linecolor": "white",
            "ticks": ""
           },
           "bgcolor": "#E5ECF6",
           "radialaxis": {
            "gridcolor": "white",
            "linecolor": "white",
            "ticks": ""
           }
          },
          "scene": {
           "xaxis": {
            "backgroundcolor": "#E5ECF6",
            "gridcolor": "white",
            "gridwidth": 2,
            "linecolor": "white",
            "showbackground": true,
            "ticks": "",
            "zerolinecolor": "white"
           },
           "yaxis": {
            "backgroundcolor": "#E5ECF6",
            "gridcolor": "white",
            "gridwidth": 2,
            "linecolor": "white",
            "showbackground": true,
            "ticks": "",
            "zerolinecolor": "white"
           },
           "zaxis": {
            "backgroundcolor": "#E5ECF6",
            "gridcolor": "white",
            "gridwidth": 2,
            "linecolor": "white",
            "showbackground": true,
            "ticks": "",
            "zerolinecolor": "white"
           }
          },
          "shapedefaults": {
           "line": {
            "color": "#2a3f5f"
           }
          },
          "ternary": {
           "aaxis": {
            "gridcolor": "white",
            "linecolor": "white",
            "ticks": ""
           },
           "baxis": {
            "gridcolor": "white",
            "linecolor": "white",
            "ticks": ""
           },
           "bgcolor": "#E5ECF6",
           "caxis": {
            "gridcolor": "white",
            "linecolor": "white",
            "ticks": ""
           }
          },
          "title": {
           "x": 0.05
          },
          "xaxis": {
           "automargin": true,
           "gridcolor": "white",
           "linecolor": "white",
           "ticks": "",
           "title": {
            "standoff": 15
           },
           "zerolinecolor": "white",
           "zerolinewidth": 2
          },
          "yaxis": {
           "automargin": true,
           "gridcolor": "white",
           "linecolor": "white",
           "ticks": "",
           "title": {
            "standoff": 15
           },
           "zerolinecolor": "white",
           "zerolinewidth": 2
          }
         }
        }
       }
      },
      "image/png": "[encoded data removed]",
      "text/html": [
       "<div>                            <div id=\"acb9b29a-26c8-4318-9905-39478cd7b1f8\" class=\"plotly-graph-div\" style=\"height:525px; width:100%;\"></div>            <script type=\"text/javascript\">                require([\"plotly\"], function(Plotly) {                    window.PLOTLYENV=window.PLOTLYENV || {};                                    if (document.getElementById(\"acb9b29a-26c8-4318-9905-39478cd7b1f8\")) {                    Plotly.newPlot(                        \"acb9b29a-26c8-4318-9905-39478cd7b1f8\",                        [{\"hovertemplate\":\"\\u003cb\\u003e%{hovertext}\\u003c\\u002fb\\u003e\\u003cbr\\u003e\\u003cbr\\u003edistance_group=%{marker.color}\\u003cbr\\u003ePC1=%{x}\\u003cbr\\u003ePC2=%{y}\\u003cbr\\u003ePC3=%{z}\\u003cextra\\u003e\\u003c\\u002fextra\\u003e\",\"hovertext\":[\"Our Search\"],\"legendgroup\":\"0\",\"marker\":{\"color\":[0],\"coloraxis\":\"coloraxis\",\"symbol\":\"circle\"},\"mode\":\"markers\",\"name\":\"0\",\"scene\":\"scene\",\"showlegend\":true,\"x\":[-0.015671770992827905],\"y\":[0.021249111744868758],\"z\":[0.4730397466847081],\"type\":\"scatter3d\"},{\"hovertemplate\":\"\\u003cb\\u003e%{hovertext}\\u003c\\u002fb\\u003e\\u003cbr\\u003e\\u003cbr\\u003edistance_group=%{marker.color}\\u003cbr\\u003ePC1=%{x}\\u003cbr\\u003ePC2=%{y}\\u003cbr\\u003ePC3=%{z}\\u003cextra\\u003e\\u003c\\u002fextra\\u003e\",\"hovertext\":[\"rnn\",\"attention\",\"mamba\",\"self\",\"xnet\",\"pca\",\"crispr-cas9\"],\"legendgroup\":\"4\",\"marker\":{\"color\":[4,4,4,4,4,4,4],\"coloraxis\":\"coloraxis\",\"symbol\":\"diamond\"},\"mode\":\"markers\",\"name\":\"4\",\"scene\":\"scene\",\"showlegend\":true,\"x\":[-0.3137623686998772,-0.40385000995743287,-0.4405941498961997,-0.23007069941956074,0.2893913188802175,0.5008714823438786,0.6136861977418021],\"y\":[-0.0784980510181524,0.10110067548886453,0.1985356767068252,-0.051621859256257646,-0.5031793201285212,-0.4079385963868296,0.7203523628492021],\"z\":[-0.030232104930356732,-0.14949530127481053,0.13028606613101376,-0.4026513571462697,0.40572488401230117,-0.41438221152696675,-0.012289721949619295],\"type\":\"scatter3d\"}],                        {\"template\":{\"data\":{\"histogram2dcontour\":[{\"type\":\"histogram2dcontour\",\"colorbar\":{\"outlinewidth\":0,\"ticks\":\"\"},\"colorscale\":[[0.0,\"#0d0887\"],[0.1111111111111111,\"#46039f\"],[0.2222222222222222,\"#7201a8\"],[0.3333333333333333,\"#9c179e\"],[0.4444444444444444,\"#bd3786\"],[0.5555555555555556,\"#d8576b\"],[0.6666666666666666,\"#ed7953\"],[0.7777777777777778,\"#fb9f3a\"],[0.8888888888888888,\"#fdca26\"],[1.0,\"#f0f921\"]]}],\"choropleth\":[{\"type\":\"choropleth\",\"colorbar\":{\"outlinewidth\":0,\"ticks\":\"\"}}],\"histogram2d\":[{\"type\":\"histogram2d\",\"colorbar\":{\"outlinewidth\":0,\"ticks\":\"\"},\"colorscale\":[[0.0,\"#0d0887\"],[0.1111111111111111,\"#46039f\"],[0.2222222222222222,\"#7201a8\"],[0.3333333333333333,\"#9c179e\"],[0.4444444444444444,\"#bd3786\"],[0.5555555555555556,\"#d8576b\"],[0.6666666666666666,\"#ed7953\"],[0.7777777777777778,\"#fb9f3a\"],[0.8888888888888888,\"#fdca26\"],[1.0,\"#f0f921\"]]}],\"heatmap\":[{\"type\":\"heatmap\",\"colorbar\":{\"outlinewidth\":0,\"ticks\":\"\"},\"colorscale\":[[0.0,\"#0d0887\"],[0.1111111111111111,\"#46039f\"],[0.2222222222222222,\"#7201a8\"],[0.3333333333333333,\"#9c179e\"],[0.4444444444444444,\"#bd3786\"],[0.5555555555555556,\"#d8576b\"],[0.6666666666666666,\"#ed7953\"],[0.7777777777777778,\"#fb9f3a\"],[0.8888888888888888,\"#fdca26\"],[1.0,\"#f0f921\"]]}],\"heatmapgl\":[{\"type\":\"heatmapgl\",\"colorbar\":{\"outlinewidth\":0,\"ticks\":\"\"},\"colorscale\":[[0.0,\"#0d0887\"],[0.1111111111111111,\"#46039f\"],[0.2222222222222222,\"#7201a8\"],[0.3333333333333333,\"#9c179e\"],[0.4444444444444444,\"#bd3786\"],[0.5555555555555556,\"#d8576b\"],[0.6666666666666666,\"#ed7953\"],[0.7777777777777778,\"#fb9f3a\"],[0.8888888888888888,\"#fdca26\"],[1.0,\"#f0f921\"]]}],\"contourcarpet\":[{\"type\":\"contourcarpet\",\"colorbar\":{\"outlinewidth\":0,\"ticks\":\"\"}}],\"contour\":[{\"type\":\"contour\",\"colorbar\":{\"outlinewidth\":0,\"ticks\":\"\"},\"colorscale\":[[0.0,\"#0d0887\"],[0.1111111111111111,\"#46039f\"],[0.2222222222222222,\"#7201a8\"],[0.3333333333333333,\"#9c179e\"],[0.4444444444444444,\"#bd3786\"],[0.5555555555555556,\"#d8576b\"],[0.6666666666666666,\"#ed7953\"],[0.7777777777777778,\"#fb9f3a\"],[0.8888888888888888,\"#fdca26\"],[1.0,\"#f0f921\"]]}],\"surface\":[{\"type\":\"surface\",\"colorbar\":{\"outlinewidth\":0,\"ticks\":\"\"},\"colorscale\":[[0.0,\"#0d0887\"],[0.1111111111111111,\"#46039f\"],[0.2222222222222222,\"#7201a8\"],[0.3333333333333333,\"#9c179e\"],[0.4444444444444444,\"#bd3786\"],[0.5555555555555556,\"#d8576b\"],[0.6666666666666666,\"#ed7953\"],[0.7777777777777778,\"#fb9f3a\"],[0.8888888888888888,\"#fdca26\"],[1.0,\"#f0f921\"]]}],\"mesh3d\":[{\"type\":\"mesh3d\",\"colorbar\":{\"outlinewidth\":0,\"ticks\":\"\"}}],\"scatter\":[{\"fillpattern\":{\"fillmode\":\"overlay\",\"size\":10,\"solidity\":0.2},\"type\":\"scatter\"}],\"parcoords\":[{\"type\":\"parcoords\",\"line\":{\"colorbar\":{\"outlinewidth\":0,\"ticks\":\"\"}}}],\"scatterpolargl\":[{\"type\":\"scatterpolargl\",\"marker\":{\"colorbar\":{\"outlinewidth\":0,\"ticks\":\"\"}}}],\"bar\":[{\"error_x\":{\"color\":\"#2a3f5f\"},\"error_y\":{\"color\":\"#2a3f5f\"},\"marker\":{\"line\":{\"color\":\"#E5ECF6\",\"width\":0.5},\"pattern\":{\"fillmode\":\"overlay\",\"size\":10,\"solidity\":0.2}},\"type\":\"bar\"}],\"scattergeo\":[{\"type\":\"scattergeo\",\"marker\":{\"colorbar\":{\"outlinewidth\":0,\"ticks\":\"\"}}}],\"scatterpolar\":[{\"type\":\"scatterpolar\",\"marker\":{\"colorbar\":{\"outlinewidth\":0,\"ticks\":\"\"}}}],\"histogram\":[{\"marker\":{\"pattern\":{\"fillmode\":\"overlay\",\"size\":10,\"solidity\":0.2}},\"type\":\"histogram\"}],\"scattergl\":[{\"type\":\"scattergl\",\"marker\":{\"colorbar\":{\"outlinewidth\":0,\"ticks\":\"\"}}}],\"scatter3d\":[{\"type\":\"scatter3d\",\"line\":{\"colorbar\":{\"outlinewidth\":0,\"ticks\":\"\"}},\"marker\":{\"colorbar\":{\"outlinewidth\":0,\"ticks\":\"\"}}}],\"scattermapbox\":[{\"type\":\"scattermapbox\",\"marker\":{\"colorbar\":{\"outlinewidth\":0,\"ticks\":\"\"}}}],\"scatterternary\":[{\"type\":\"scatterternary\",\"marker\":{\"colorbar\":{\"outlinewidth\":0,\"ticks\":\"\"}}}],\"scattercarpet\":[{\"type\":\"scattercarpet\",\"marker\":{\"colorbar\":{\"outlinewidth\":0,\"ticks\":\"\"}}}],\"carpet\":[{\"aaxis\":{\"endlinecolor\":\"#2a3f5f\",\"gridcolor\":\"white\",\"linecolor\":\"white\",\"minorgridcolor\":\"white\",\"startlinecolor\":\"#2a3f5f\"},\"baxis\":{\"endlinecolor\":\"#2a3f5f\",\"gridcolor\":\"white\",\"linecolor\":\"white\",\"minorgridcolor\":\"white\",\"startlinecolor\":\"#2a3f5f\"},\"type\":\"carpet\"}],\"table\":[{\"cells\":{\"fill\":{\"color\":\"#EBF0F8\"},\"line\":{\"color\":\"white\"}},\"header\":{\"fill\":{\"color\":\"#C8D4E3\"},\"line\":{\"color\":\"white\"}},\"type\":\"table\"}],\"barpolar\":[{\"marker\":{\"line\":{\"color\":\"#E5ECF6\",\"width\":0.5},\"pattern\":{\"fillmode\":\"overlay\",\"size\":10,\"solidity\":0.2}},\"type\":\"barpolar\"}],\"pie\":[{\"automargin\":true,\"type\":\"pie\"}]},\"layout\":{\"autotypenumbers\":\"strict\",\"colorway\":[\"#636efa\",\"#EF553B\",\"#00cc96\",\"#ab63fa\",\"#FFA15A\",\"#19d3f3\",\"#FF6692\",\"#B6E880\",\"#FF97FF\",\"#FECB52\"],\"font\":{\"color\":\"#2a3f5f\"},\"hovermode\":\"closest\",\"hoverlabel\":{\"align\":\"left\"},\"paper_bgcolor\":\"white\",\"plot_bgcolor\":\"#E5ECF6\",\"polar\":{\"bgcolor\":\"#E5ECF6\",\"angularaxis\":{\"gridcolor\":\"white\",\"linecolor\":\"white\",\"ticks\":\"\"},\"radialaxis\":{\"gridcolor\":\"white\",\"linecolor\":\"white\",\"ticks\":\"\"}},\"ternary\":{\"bgcolor\":\"#E5ECF6\",\"aaxis\":{\"gridcolor\":\"white\",\"linecolor\":\"white\",\"ticks\":\"\"},\"baxis\":{\"gridcolor\":\"white\",\"linecolor\":\"white\",\"ticks\":\"\"},\"caxis\":{\"gridcolor\":\"white\",\"linecolor\":\"white\",\"ticks\":\"\"}},\"coloraxis\":{\"colorbar\":{\"outlinewidth\":0,\"ticks\":\"\"}},\"colorscale\":{\"sequential\":[[0.0,\"#0d0887\"],[0.1111111111111111,\"#46039f\"],[0.2222222222222222,\"#7201a8\"],[0.3333333333333333,\"#9c179e\"],[0.4444444444444444,\"#bd3786\"],[0.5555555555555556,\"#d8576b\"],[0.6666666666666666,\"#ed7953\"],[0.7777777777777778,\"#fb9f3a\"],[0.8888888888888888,\"#fdca26\"],[1.0,\"#f0f921\"]],\"sequentialminus\":[[0.0,\"#0d0887\"],[0.1111111111111111,\"#46039f\"],[0.2222222222222222,\"#7201a8\"],[0.3333333333333333,\"#9c179e\"],[0.4444444444444444,\"#bd3786\"],[0.5555555555555556,\"#d8576b\"],[0.6666666666666666,\"#ed7953\"],[0.7777777777777778,\"#fb9f3a\"],[0.8888888888888888,\"#fdca26\"],[1.0,\"#f0f921\"]],\"diverging\":[[0,\"#8e0152\"],[0.1,\"#c51b7d\"],[0.2,\"#de77ae\"],[0.3,\"#f1b6da\"],[0.4,\"#fde0ef\"],[0.5,\"#f7f7f7\"],[0.6,\"#e6f5d0\"],[0.7,\"#b8e186\"],[0.8,\"#7fbc41\"],[0.9,\"#4d9221\"],[1,\"#276419\"]]},\"xaxis\":{\"gridcolor\":\"white\",\"linecolor\":\"white\",\"ticks\":\"\",\"title\":{\"standoff\":15},\"zerolinecolor\":\"white\",\"automargin\":true,\"zerolinewidth\":2},\"yaxis\":{\"gridcolor\":\"white\",\"linecolor\":\"white\",\"ticks\":\"\",\"title\":{\"standoff\":15},\"zerolinecolor\":\"white\",\"automargin\":true,\"zerolinewidth\":2},\"scene\":{\"xaxis\":{\"backgroundcolor\":\"#E5ECF6\",\"gridcolor\":\"white\",\"linecolor\":\"white\",\"showbackground\":true,\"ticks\":\"\",\"zerolinecolor\":\"white\",\"gridwidth\":2},\"yaxis\":{\"backgroundcolor\":\"#E5ECF6\",\"gridcolor\":\"white\",\"linecolor\":\"white\",\"showbackground\":true,\"ticks\":\"\",\"zerolinecolor\":\"white\",\"gridwidth\":2},\"zaxis\":{\"backgroundcolor\":\"#E5ECF6\",\"gridcolor\":\"white\",\"linecolor\":\"white\",\"showbackground\":true,\"ticks\":\"\",\"zerolinecolor\":\"white\",\"gridwidth\":2}},\"shapedefaults\":{\"line\":{\"color\":\"#2a3f5f\"}},\"annotationdefaults\":{\"arrowcolor\":\"#2a3f5f\",\"arrowhead\":0,\"arrowwidth\":1},\"geo\":{\"bgcolor\":\"white\",\"landcolor\":\"#E5ECF6\",\"subunitcolor\":\"white\",\"showland\":true,\"showlakes\":true,\"lakecolor\":\"white\"},\"title\":{\"x\":0.05},\"mapbox\":{\"style\":\"light\"}}},\"scene\":{\"domain\":{\"x\":[0.0,1.0],\"y\":[0.0,1.0]},\"xaxis\":{\"title\":{\"text\":\"PC1\"}},\"yaxis\":{\"title\":{\"text\":\"PC2\"}},\"zaxis\":{\"title\":{\"text\":\"PC3\"}}},\"coloraxis\":{\"colorbar\":{\"title\":{\"text\":\"distance_group\"}},\"colorscale\":[[0.0,\"#440154\"],[0.1111111111111111,\"#482878\"],[0.2222222222222222,\"#3e4989\"],[0.3333333333333333,\"#31688e\"],[0.4444444444444444,\"#26828e\"],[0.5555555555555556,\"#1f9e89\"],[0.6666666666666666,\"#35b779\"],[0.7777777777777778,\"#6ece58\"],[0.8888888888888888,\"#b5de2b\"],[1.0,\"#fde725\"]]},\"legend\":{\"title\":{\"text\":\"distance_group\"},\"tracegroupgap\":0},\"margin\":{\"t\":0,\"l\":0,\"r\":0,\"b\":0}},                        {\"responsive\": true}                    ).then(function(){\n",
       "                            \n",
       "var gd = document.getElementById('acb9b29a-26c8-4318-9905-39478cd7b1f8');\n",
       "var x = new MutationObserver(function (mutations, observer) {{\n",
       "        var display = window.getComputedStyle(gd).display;\n",
       "        if (!display || display === 'none') {{\n",
       "            console.log([gd, 'removed!']);\n",
       "            Plotly.purge(gd);\n",
       "            observer.disconnect();\n",
       "        }}\n",
       "}});\n",
       "\n",
       "// Listen for the removal of the full notebook cells\n",
       "var notebookContainer = gd.closest('#notebook-container');\n",
       "if (notebookContainer) {{\n",
       "    x.observe(notebookContainer, {childList: true});\n",
       "}}\n",
       "\n",
       "// Listen for the clearing of the current output cell\n",
       "var outputEl = gd.closest('.output');\n",
       "if (outputEl) {{\n",
       "    x.observe(outputEl, {childList: true});\n",
       "}}\n",
       "\n",
       "                        })                };                });            </script>        </div>"
      ]
     },
     "metadata": {},
     "output_type": "display_data"
    }
   ],
   "source": [
    "# Configure the trace.\n",
    "\n",
    "fig = px.scatter_3d(new_pca_df,\n",
    "    x='PC1',  # <-- Put your data instead\n",
    "    y='PC2',  # <-- Put your data instead\n",
    "    z='PC3',  # <-- Put your data instead\n",
    "#   size='text_lenght',\n",
    "    color='distance_group',\n",
    "    symbol='distance_group',\n",
    "    hover_name='title',\n",
    "    color_continuous_scale=px.colors.sequential.Viridis\n",
    ")\n",
    "\n",
    "# av colors:\n",
    "# colors:\n",
    "# ['Alphabet',\n",
    "#  'Antique',\n",
    "#  'Bold',\n",
    "#  'D3',\n",
    "#  'Dark2',\n",
    "#  'Dark24',\n",
    "#  'G10',......]\n",
    "\n",
    "fig.update_layout(margin=dict(l=0, r=0, b=0, t=0))\n",
    "\n",
    "fig.show()"
   ]
  },
  {
   "cell_type": "code",
   "execution_count": 63,
   "id": "ceb2faf1",
   "metadata": {},
   "outputs": [
    {
     "data": {
      "text/html": [
       "<div>\n",
       "<style scoped>\n",
       "    .dataframe tbody tr th:only-of-type {\n",
       "        vertical-align: middle;\n",
       "    }\n",
       "\n",
       "    .dataframe tbody tr th {\n",
       "        vertical-align: top;\n",
       "    }\n",
       "\n",
       "    .dataframe thead th {\n",
       "        text-align: right;\n",
       "    }\n",
       "</style>\n",
       "<table border=\"1\" class=\"dataframe\">\n",
       "  <thead>\n",
       "    <tr style=\"text-align: right;\">\n",
       "      <th></th>\n",
       "      <th>text_id</th>\n",
       "      <th>title</th>\n",
       "      <th>text</th>\n",
       "      <th>text_vector</th>\n",
       "      <th>distance</th>\n",
       "    </tr>\n",
       "  </thead>\n",
       "  <tbody>\n",
       "    <tr>\n",
       "      <th>0</th>\n",
       "      <td>0</td>\n",
       "      <td>Our Search</td>\n",
       "      <td>Deep Reinforcement learning</td>\n",
       "      <td>[-0.026842538, 0.03865101, -0.018913055, 0.025...</td>\n",
       "      <td>0.000000</td>\n",
       "    </tr>\n",
       "    <tr>\n",
       "      <th>1</th>\n",
       "      <td>2304</td>\n",
       "      <td>rnn</td>\n",
       "      <td>To appear as a part of an upcoming textbook on...</td>\n",
       "      <td>[-0.0037181564, 0.016733125, -0.020747423, 0.0...</td>\n",
       "      <td>1.070841</td>\n",
       "    </tr>\n",
       "    <tr>\n",
       "      <th>2</th>\n",
       "      <td>1706</td>\n",
       "      <td>attention</td>\n",
       "      <td>Provided proper attribution is provided, Googl...</td>\n",
       "      <td>[0.0054992014, 0.037146155, 0.0010611548, 0.02...</td>\n",
       "      <td>1.141667</td>\n",
       "    </tr>\n",
       "    <tr>\n",
       "      <th>3</th>\n",
       "      <td>2401</td>\n",
       "      <td>mamba</td>\n",
       "      <td>MambaByte: Token-free Selective State Space Mo...</td>\n",
       "      <td>[0.05232658, 0.051375307, -0.0006775561, 0.002...</td>\n",
       "      <td>1.179760</td>\n",
       "    </tr>\n",
       "    <tr>\n",
       "      <th>4</th>\n",
       "      <td>attention</td>\n",
       "      <td>self</td>\n",
       "      <td>STORY DIFFUSION : C ONSISTENT SELF-ATTENTION\\n...</td>\n",
       "      <td>[0.011601232, 0.020899585, 0.01922862, 0.02535...</td>\n",
       "      <td>1.205334</td>\n",
       "    </tr>\n",
       "    <tr>\n",
       "      <th>5</th>\n",
       "      <td>1812</td>\n",
       "      <td>xnet</td>\n",
       "      <td>XNet: A convolutional neural network (CNN)\\nim...</td>\n",
       "      <td>[0.016950995, 0.025170336, -0.017331049, 0.016...</td>\n",
       "      <td>1.250568</td>\n",
       "    </tr>\n",
       "    <tr>\n",
       "      <th>6</th>\n",
       "      <td>1404</td>\n",
       "      <td>pca</td>\n",
       "      <td>A Tutorial on Principal Component Analysis\\nJo...</td>\n",
       "      <td>[-0.043667298, 0.027209371, -0.049346946, 0.02...</td>\n",
       "      <td>1.268179</td>\n",
       "    </tr>\n",
       "    <tr>\n",
       "      <th>7</th>\n",
       "      <td>2103</td>\n",
       "      <td>crispr-cas9</td>\n",
       "      <td>arXiv:2103.10667v2  (q-bio.SC)  4 Oct 2021Sear...</td>\n",
       "      <td>[-0.008727858, -0.10015887, -0.0042581153, 0.0...</td>\n",
       "      <td>1.314120</td>\n",
       "    </tr>\n",
       "  </tbody>\n",
       "</table>\n",
       "</div>"
      ],
      "text/plain": [
       "     text_id        title                                               text  \\\n",
       "0          0   Our Search                        Deep Reinforcement learning   \n",
       "1       2304          rnn  To appear as a part of an upcoming textbook on...   \n",
       "2       1706    attention  Provided proper attribution is provided, Googl...   \n",
       "3       2401        mamba  MambaByte: Token-free Selective State Space Mo...   \n",
       "4  attention         self  STORY DIFFUSION : C ONSISTENT SELF-ATTENTION\\n...   \n",
       "5       1812         xnet  XNet: A convolutional neural network (CNN)\\nim...   \n",
       "6       1404          pca  A Tutorial on Principal Component Analysis\\nJo...   \n",
       "7       2103  crispr-cas9  arXiv:2103.10667v2  (q-bio.SC)  4 Oct 2021Sear...   \n",
       "\n",
       "                                         text_vector  distance  \n",
       "0  [-0.026842538, 0.03865101, -0.018913055, 0.025...  0.000000  \n",
       "1  [-0.0037181564, 0.016733125, -0.020747423, 0.0...  1.070841  \n",
       "2  [0.0054992014, 0.037146155, 0.0010611548, 0.02...  1.141667  \n",
       "3  [0.05232658, 0.051375307, -0.0006775561, 0.002...  1.179760  \n",
       "4  [0.011601232, 0.020899585, 0.01922862, 0.02535...  1.205334  \n",
       "5  [0.016950995, 0.025170336, -0.017331049, 0.016...  1.250568  \n",
       "6  [-0.043667298, 0.027209371, -0.049346946, 0.02...  1.268179  \n",
       "7  [-0.008727858, -0.10015887, -0.0042581153, 0.0...  1.314120  "
      ]
     },
     "execution_count": 63,
     "metadata": {},
     "output_type": "execute_result"
    }
   ],
   "source": [
    "pdf_df_copy"
   ]
  },
  {
   "cell_type": "code",
   "execution_count": 64,
   "id": "f670f1df",
   "metadata": {},
   "outputs": [],
   "source": [
    "\n",
    "# Fit the K-means clustering algorithm to the reduced vectors\n",
    "kmeans = KMeans(n_clusters=3, n_init=10)\n",
    "kmeans.fit(new_pca_df[['PC1', 'PC2', 'PC3']])\n",
    "\n",
    "# Obtain the cluster labels\n",
    "labels = kmeans.labels_\n",
    "\n",
    "# Assign the cluster labels to the DataFrame\n",
    "new_pca_df['Cluster'] = labels"
   ]
  },
  {
   "cell_type": "code",
   "execution_count": 65,
   "id": "deab3ff4",
   "metadata": {},
   "outputs": [],
   "source": [
    "# Group the embeddings by cluster\n",
    "clusters = {}\n",
    "for i, embedding in enumerate(vectors):\n",
    "    cluster_label = labels[i]\n",
    "    if cluster_label not in clusters:\n",
    "        clusters[cluster_label] = []\n",
    "    clusters[cluster_label].append(vectors)"
   ]
  },
  {
   "cell_type": "code",
   "execution_count": 66,
   "id": "6d765f47",
   "metadata": {},
   "outputs": [],
   "source": [
    "# Add pdfs names to the clusters\n",
    "pdfs_names = pdf_df_copy['title'].to_list()\n",
    "\n",
    "data = []\n",
    "\n",
    "for label, embeddings in clusters.items():\n",
    "    \n",
    "#     print (label)\n",
    "    \n",
    "    for i, _ in enumerate(embeddings):\n",
    "        \n",
    "        key =label\n",
    "        title = pdfs_names[i]                               \n",
    "                                                \n",
    "        data.append((key, i, title))   "
   ]
  },
  {
   "cell_type": "code",
   "execution_count": 67,
   "id": "5c465604",
   "metadata": {},
   "outputs": [
    {
     "data": {
      "text/plain": [
       "[(0, 0, 'Our Search'),\n",
       " (0, 1, 'rnn'),\n",
       " (0, 2, 'attention'),\n",
       " (0, 3, 'mamba'),\n",
       " (0, 4, 'self'),\n",
       " (1, 0, 'Our Search'),\n",
       " (1, 1, 'rnn'),\n",
       " (2, 0, 'Our Search')]"
      ]
     },
     "execution_count": 67,
     "metadata": {},
     "output_type": "execute_result"
    }
   ],
   "source": [
    "data"
   ]
  },
  {
   "cell_type": "code",
   "execution_count": 68,
   "id": "0fe6b15a",
   "metadata": {},
   "outputs": [],
   "source": [
    "# Create a DataFrame from the list\n",
    "df = pd.DataFrame(data, columns=['Key', 'Index', 'Value'])\n",
    "\n",
    "# Set 'Key' and 'Index' as a multi-index\n",
    "df = df.set_index(['Key', 'Index'])"
   ]
  },
  {
   "cell_type": "code",
   "execution_count": 69,
   "id": "8058065c",
   "metadata": {},
   "outputs": [
    {
     "data": {
      "text/html": [
       "<div>\n",
       "<style scoped>\n",
       "    .dataframe tbody tr th:only-of-type {\n",
       "        vertical-align: middle;\n",
       "    }\n",
       "\n",
       "    .dataframe tbody tr th {\n",
       "        vertical-align: top;\n",
       "    }\n",
       "\n",
       "    .dataframe thead th {\n",
       "        text-align: right;\n",
       "    }\n",
       "</style>\n",
       "<table border=\"1\" class=\"dataframe\">\n",
       "  <thead>\n",
       "    <tr style=\"text-align: right;\">\n",
       "      <th></th>\n",
       "      <th></th>\n",
       "      <th>Value</th>\n",
       "    </tr>\n",
       "    <tr>\n",
       "      <th>Key</th>\n",
       "      <th>Index</th>\n",
       "      <th></th>\n",
       "    </tr>\n",
       "  </thead>\n",
       "  <tbody>\n",
       "    <tr>\n",
       "      <th rowspan=\"5\" valign=\"top\">0</th>\n",
       "      <th>0</th>\n",
       "      <td>Our Search</td>\n",
       "    </tr>\n",
       "    <tr>\n",
       "      <th>1</th>\n",
       "      <td>rnn</td>\n",
       "    </tr>\n",
       "    <tr>\n",
       "      <th>2</th>\n",
       "      <td>attention</td>\n",
       "    </tr>\n",
       "    <tr>\n",
       "      <th>3</th>\n",
       "      <td>mamba</td>\n",
       "    </tr>\n",
       "    <tr>\n",
       "      <th>4</th>\n",
       "      <td>self</td>\n",
       "    </tr>\n",
       "    <tr>\n",
       "      <th rowspan=\"2\" valign=\"top\">1</th>\n",
       "      <th>0</th>\n",
       "      <td>Our Search</td>\n",
       "    </tr>\n",
       "    <tr>\n",
       "      <th>1</th>\n",
       "      <td>rnn</td>\n",
       "    </tr>\n",
       "    <tr>\n",
       "      <th>2</th>\n",
       "      <th>0</th>\n",
       "      <td>Our Search</td>\n",
       "    </tr>\n",
       "  </tbody>\n",
       "</table>\n",
       "</div>"
      ],
      "text/plain": [
       "                Value\n",
       "Key Index            \n",
       "0   0      Our Search\n",
       "    1             rnn\n",
       "    2       attention\n",
       "    3           mamba\n",
       "    4            self\n",
       "1   0      Our Search\n",
       "    1             rnn\n",
       "2   0      Our Search"
      ]
     },
     "execution_count": 69,
     "metadata": {},
     "output_type": "execute_result"
    }
   ],
   "source": [
    "df"
   ]
  },
  {
   "cell_type": "code",
   "execution_count": 70,
   "id": "05bc3fcd",
   "metadata": {},
   "outputs": [],
   "source": [
    "group = df.loc[1] # Select a group by key"
   ]
  },
  {
   "cell_type": "code",
   "execution_count": 71,
   "id": "c41cf63d",
   "metadata": {},
   "outputs": [
    {
     "data": {
      "text/html": [
       "<div>\n",
       "<style scoped>\n",
       "    .dataframe tbody tr th:only-of-type {\n",
       "        vertical-align: middle;\n",
       "    }\n",
       "\n",
       "    .dataframe tbody tr th {\n",
       "        vertical-align: top;\n",
       "    }\n",
       "\n",
       "    .dataframe thead th {\n",
       "        text-align: right;\n",
       "    }\n",
       "</style>\n",
       "<table border=\"1\" class=\"dataframe\">\n",
       "  <thead>\n",
       "    <tr style=\"text-align: right;\">\n",
       "      <th></th>\n",
       "      <th>Value</th>\n",
       "    </tr>\n",
       "    <tr>\n",
       "      <th>Index</th>\n",
       "      <th></th>\n",
       "    </tr>\n",
       "  </thead>\n",
       "  <tbody>\n",
       "    <tr>\n",
       "      <th>0</th>\n",
       "      <td>Our Search</td>\n",
       "    </tr>\n",
       "    <tr>\n",
       "      <th>1</th>\n",
       "      <td>rnn</td>\n",
       "    </tr>\n",
       "  </tbody>\n",
       "</table>\n",
       "</div>"
      ],
      "text/plain": [
       "            Value\n",
       "Index            \n",
       "0      Our Search\n",
       "1             rnn"
      ]
     },
     "execution_count": 71,
     "metadata": {},
     "output_type": "execute_result"
    }
   ],
   "source": [
    "group"
   ]
  },
  {
   "cell_type": "code",
   "execution_count": 72,
   "id": "86c5c7e9",
   "metadata": {},
   "outputs": [],
   "source": [
    "row = group.loc[0, 'Value'] # Select an index inside the group"
   ]
  },
  {
   "cell_type": "code",
   "execution_count": 73,
   "id": "aa5a28a1",
   "metadata": {},
   "outputs": [
    {
     "data": {
      "text/plain": [
       "'Our Search'"
      ]
     },
     "execution_count": 73,
     "metadata": {},
     "output_type": "execute_result"
    }
   ],
   "source": [
    "row"
   ]
  },
  {
   "cell_type": "code",
   "execution_count": null,
   "id": "395236a8",
   "metadata": {},
   "outputs": [],
   "source": []
  },
  {
   "cell_type": "code",
   "execution_count": null,
   "id": "35f31484-a091-4114-aabe-44c3c3175ddb",
   "metadata": {},
   "outputs": [],
   "source": []
  }
 ],
 "metadata": {
  "kernelspec": {
   "display_name": "Python 3 (ipykernel)",
   "language": "python",
   "name": "python3"
  },
  "language_info": {
   "codemirror_mode": {
    "name": "ipython",
    "version": 3
   },
   "file_extension": ".py",
   "mimetype": "text/x-python",
   "name": "python",
   "nbconvert_exporter": "python",
   "pygments_lexer": "ipython3",
   "version": "3.10.11"
  }
 },
 "nbformat": 4,
 "nbformat_minor": 5
}
