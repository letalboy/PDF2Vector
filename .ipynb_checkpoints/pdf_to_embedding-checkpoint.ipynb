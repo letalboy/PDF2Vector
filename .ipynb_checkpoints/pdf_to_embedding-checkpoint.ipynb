{
 "cells": [
  {
   "cell_type": "code",
   "execution_count": 1,
   "id": "865e3f7b",
   "metadata": {},
   "outputs": [],
   "source": [
    "import os\n",
    "import PyPDF2\n",
    "import pandas as pd"
   ]
  },
  {
   "cell_type": "code",
   "execution_count": 27,
   "id": "309258fb",
   "metadata": {},
   "outputs": [],
   "source": [
    "PDFS_DIR = \"./pdfs/\"\n",
    "\n",
    "pdfs_processed = []\n",
    "for root, dirs, files in os.walk(PDFS_DIR, topdown=False):\n",
    "    for name in files:\n",
    "        pdfs_processed.append({'path':os.path.join(root, name), 'name':name.split(\".\")[0].split(\"_\")[0], 'id':name.split(\".\")[0].split(\"_\")[1]})"
   ]
  },
  {
   "cell_type": "code",
   "execution_count": 44,
   "id": "e325e690",
   "metadata": {},
   "outputs": [],
   "source": [
    "texts = []\n",
    "names = []\n",
    "ids   = []\n",
    "\n",
    "data = []\n",
    "\n",
    "for pdf in pdfs_processed:\n",
    "\n",
    "    with open(pdf['path'],'rb') as pdf_file:\n",
    " \n",
    "        pdfreader = PyPDF2.PdfReader(pdf_file)\n",
    "\n",
    "        x = len(pdfreader.pages)\n",
    "\n",
    "        pageobj=pdfreader.pages[0] # -> x + 1 because python start in 0, so 0 + 1 => page 1 (start)\n",
    "\n",
    "        point = [pdf['id'], pdf['name'], pageobj.extract_text().replace(\"[\", \"(\").replace(\"]\", \")\")]\n",
    "        \n",
    "        data.append(point)\n",
    "        \n",
    "    pdf_file.close()\n",
    "\n"
   ]
  },
  {
   "cell_type": "code",
   "execution_count": 45,
   "id": "b79ca4e1",
   "metadata": {},
   "outputs": [],
   "source": [
    "pdf_df = pd.DataFrame(data, columns=['text_id', 'title', 'text'])"
   ]
  },
  {
   "cell_type": "code",
   "execution_count": 46,
   "id": "738ee00d",
   "metadata": {},
   "outputs": [
    {
     "data": {
      "text/html": [
       "<div>\n",
       "<style scoped>\n",
       "    .dataframe tbody tr th:only-of-type {\n",
       "        vertical-align: middle;\n",
       "    }\n",
       "\n",
       "    .dataframe tbody tr th {\n",
       "        vertical-align: top;\n",
       "    }\n",
       "\n",
       "    .dataframe thead th {\n",
       "        text-align: right;\n",
       "    }\n",
       "</style>\n",
       "<table border=\"1\" class=\"dataframe\">\n",
       "  <thead>\n",
       "    <tr style=\"text-align: right;\">\n",
       "      <th></th>\n",
       "      <th>text_id</th>\n",
       "      <th>title</th>\n",
       "      <th>text</th>\n",
       "    </tr>\n",
       "  </thead>\n",
       "  <tbody>\n",
       "    <tr>\n",
       "      <th>0</th>\n",
       "      <td>[1802, 1706]</td>\n",
       "      <td>[Addressing-Function-Approximation-Error-In-Ac...</td>\n",
       "      <td>[Addressing Function Approximation Error in Ac...</td>\n",
       "    </tr>\n",
       "    <tr>\n",
       "      <th>1</th>\n",
       "      <td>[1802, 1706]</td>\n",
       "      <td>[Addressing-Function-Approximation-Error-In-Ac...</td>\n",
       "      <td>[Addressing Function Approximation Error in Ac...</td>\n",
       "    </tr>\n",
       "  </tbody>\n",
       "</table>\n",
       "</div>"
      ],
      "text/plain": [
       "        text_id                                              title  \\\n",
       "0  [1802, 1706]  [Addressing-Function-Approximation-Error-In-Ac...   \n",
       "1  [1802, 1706]  [Addressing-Function-Approximation-Error-In-Ac...   \n",
       "\n",
       "                                                text  \n",
       "0  [Addressing Function Approximation Error in Ac...  \n",
       "1  [Addressing Function Approximation Error in Ac...  "
      ]
     },
     "execution_count": 46,
     "metadata": {},
     "output_type": "execute_result"
    }
   ],
   "source": [
    "pdf_df"
   ]
  },
  {
   "cell_type": "code",
   "execution_count": null,
   "id": "1e1310a0",
   "metadata": {},
   "outputs": [],
   "source": []
  }
 ],
 "metadata": {
  "kernelspec": {
   "display_name": "Python 3 (ipykernel)",
   "language": "python",
   "name": "python3"
  },
  "language_info": {
   "codemirror_mode": {
    "name": "ipython",
    "version": 3
   },
   "file_extension": ".py",
   "mimetype": "text/x-python",
   "name": "python",
   "nbconvert_exporter": "python",
   "pygments_lexer": "ipython3",
   "version": "3.10.9"
  }
 },
 "nbformat": 4,
 "nbformat_minor": 5
}
